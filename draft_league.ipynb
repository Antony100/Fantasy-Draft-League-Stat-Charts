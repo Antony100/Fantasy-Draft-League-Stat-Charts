{
 "cells": [
  {
   "cell_type": "code",
   "execution_count": 1,
   "metadata": {},
   "outputs": [],
   "source": [
    "from matplotlib import pyplot as plt"
   ]
  },
  {
   "cell_type": "code",
   "execution_count": 2,
   "metadata": {},
   "outputs": [],
   "source": [
    "import numpy as np"
   ]
  },
  {
   "cell_type": "code",
   "execution_count": 3,
   "metadata": {
    "tags": []
   },
   "outputs": [],
   "source": [
    "import requests"
   ]
  },
  {
   "cell_type": "code",
   "execution_count": 4,
   "metadata": {
    "tags": []
   },
   "outputs": [],
   "source": [
    "PLAYERS = {'Antony': 96846, 'Miguel': 110988,\n",
    "           'Manesh': 113418, 'Zeeshan': 112909, 'Llukman': 102751,\n",
    "           'Asa': 97933, 'Jimmy': 97201, 'Michael': 110033}"
   ]
  },
  {
   "cell_type": "code",
   "execution_count": 5,
   "metadata": {},
   "outputs": [],
   "source": [
    "PLAYERS_LG2 = {'Antony': 56349, 'Marcus': 39626}"
   ]
  },
  {
   "cell_type": "markdown",
   "metadata": {},
   "source": [
    "---"
   ]
  },
  {
   "cell_type": "code",
   "execution_count": 9,
   "metadata": {},
   "outputs": [],
   "source": [
    "miguel_data = requests.get(\n",
    "    f\"https://draft.premierleague.com/api/entry/{PLAYERS['Miguel']}/history\")"
   ]
  },
  {
   "cell_type": "code",
   "execution_count": 10,
   "metadata": {},
   "outputs": [],
   "source": [
    "ant_data = requests.get(\n",
    "    f\"https://draft.premierleague.com/api/entry/{PLAYERS['Antony']}/history\")"
   ]
  },
  {
   "cell_type": "code",
   "execution_count": 11,
   "metadata": {},
   "outputs": [],
   "source": [
    "miguel = miguel_data.json()"
   ]
  },
  {
   "cell_type": "code",
   "execution_count": 12,
   "metadata": {},
   "outputs": [],
   "source": [
    "antony = ant_data.json()"
   ]
  },
  {
   "cell_type": "code",
   "execution_count": 13,
   "metadata": {},
   "outputs": [
    {
     "ename": "NameError",
     "evalue": "name 'data' is not defined",
     "output_type": "error",
     "traceback": [
      "\u001b[0;31m---------------------------------------------------------------------------\u001b[0m",
      "\u001b[0;31mNameError\u001b[0m                                 Traceback (most recent call last)",
      "\u001b[0;32m<ipython-input-13-58e4cc83ade9>\u001b[0m in \u001b[0;36m<module>\u001b[0;34m\u001b[0m\n\u001b[0;32m----> 1\u001b[0;31m \u001b[0;32mfor\u001b[0m  \u001b[0mpoints\u001b[0m \u001b[0;32min\u001b[0m \u001b[0mdata\u001b[0m\u001b[0;34m[\u001b[0m\u001b[0;34m'history'\u001b[0m\u001b[0;34m]\u001b[0m\u001b[0;34m:\u001b[0m\u001b[0;34m\u001b[0m\u001b[0;34m\u001b[0m\u001b[0m\n\u001b[0m\u001b[1;32m      2\u001b[0m     \u001b[0mprint\u001b[0m \u001b[0;34m(\u001b[0m\u001b[0mpoints\u001b[0m\u001b[0;34m[\u001b[0m\u001b[0;34m'points'\u001b[0m\u001b[0;34m]\u001b[0m\u001b[0;34m)\u001b[0m\u001b[0;34m\u001b[0m\u001b[0;34m\u001b[0m\u001b[0m\n",
      "\u001b[0;31mNameError\u001b[0m: name 'data' is not defined"
     ]
    }
   ],
   "source": [
    "for  points in data['history']:\n",
    "    print (points['points'])"
   ]
  },
  {
   "cell_type": "code",
   "execution_count": 14,
   "metadata": {},
   "outputs": [],
   "source": [
    "def get_points_per_gameweek(src):\n",
    "#     res = []\n",
    "#     for points in src['history']:\n",
    "#         res.append(points['points'])\n",
    "#     return res\n",
    "    return [points['points'] for points in src['history']]\n",
    "    \n",
    "    "
   ]
  },
  {
   "cell_type": "code",
   "execution_count": 15,
   "metadata": {},
   "outputs": [],
   "source": [
    "mig_gameweek_points = get_points_per_gameweek(miguel)"
   ]
  },
  {
   "cell_type": "code",
   "execution_count": 16,
   "metadata": {},
   "outputs": [],
   "source": [
    "ant_gameweek_points = get_points_per_gameweek(antony)"
   ]
  },
  {
   "cell_type": "code",
   "execution_count": 17,
   "metadata": {},
   "outputs": [],
   "source": [
    "gameweeks = list(range(1, len(mig_gameweek_points) + 1))"
   ]
  },
  {
   "cell_type": "code",
   "execution_count": 19,
   "metadata": {},
   "outputs": [
    {
     "data": {
      "application/vnd.jupyter.widget-view+json": {
       "model_id": "f58d91578ac545f79a45c40f8a2354e2",
       "version_major": 2,
       "version_minor": 0
      },
      "text/plain": [
       "Canvas(toolbar=Toolbar(toolitems=[('Home', 'Reset original view', 'home', 'home'), ('Back', 'Back to previous …"
      ]
     },
     "metadata": {},
     "output_type": "display_data"
    }
   ],
   "source": [
    "%matplotlib widget\n",
    "plt.plot(gameweeks, mig_gameweek_points)\n",
    "plt.plot(gameweeks, ant_gameweek_points)\n",
    "plt.title('Ant vs Mig')\n",
    "plt.xlabel('gameweeks')\n",
    "plt.ylabel('points')\n",
    "plt.legend(['Miguel', 'Antony'])\n",
    "plt.show()"
   ]
  },
  {
   "cell_type": "markdown",
   "metadata": {},
   "source": [
    "---"
   ]
  },
  {
   "cell_type": "code",
   "execution_count": 14,
   "metadata": {},
   "outputs": [],
   "source": [
    "\n",
    "\n",
    "class DraftData():\n",
    "\n",
    "    def __init__(self, player_ids):\n",
    "        self.player_ids = player_ids\n",
    "\n",
    "    def get_player_ids(self):\n",
    "        ids = requests.get(\"https://draft.premierleague.com/api/league/11321/details\")\n",
    "        player_ids = ids.json()\n",
    "        return player_ids\n",
    "    \n",
    "\n",
    "    def get_data(self, player_name):\n",
    "        # make line fit\n",
    "        player = requests.get(\n",
    "            f\"https://draft.premierleague.com/api/entry/{self.player_ids[player_name]}/history\"\n",
    "        )\n",
    "        player_data = player.json()\n",
    "        return player_data\n",
    "\n",
    "    def get_points_per_gameweek(self, src):\n",
    "        return [points['points'] for points in src['history']]\n",
    "\n",
    "#     def get_gameweeks(self, src):\n",
    "#         return list(range(1, len(src) + 1))\n",
    "\n",
    "\n",
    "#     def get_gameweeks_points(self, player_name):\n",
    "#         data = self.get_data(player_name)\n",
    "#         points = self.get_points_per_gameweek(data)\n",
    "#         return {player_name: dict(enumerate(points, start=1))}\n",
    "\n",
    "#     one-liner\n",
    "#     def get_gameweeks_points(self, *players):\n",
    "#         return {player_name: dict(enumerate(self.get_points_per_gameweek(self.get_data(player_name)), start=1)) for player_name in players}\n",
    "    \n",
    "#     def get_gameweeks_points(self, *players):\n",
    "#         result = dict()\n",
    "#         for player_name in players:\n",
    "#             data = self.get_data(player_name)\n",
    "#             points = self.get_points_per_gameweek(data)\n",
    "#             result[player_name] = dict(enumerate(points, start=1))\n",
    "#         return result\n",
    "    \n",
    "    def get_gameweeks_points(self, *players, format_type=\"dict\"):\n",
    "        \"\"\"\n",
    "        returns a dict of players and their gameweek score points.\n",
    "        specify format_type (by default a dictionary) of either\n",
    "        a list or dictionary to change the gameweek points as either a dictionary\n",
    "        of gameweek number and points or a list of just the points.\n",
    "        \"\"\"\n",
    "        result = dict()\n",
    "        print(players)\n",
    "        for player_name in players:\n",
    "            print(player_name)\n",
    "            data = self.get_data(player_name)\n",
    "            points = self.get_points_per_gameweek(data)\n",
    "            if format_type == \"dict\":\n",
    "                result[player_name] = dict(enumerate(points, start=1))\n",
    "            elif format_type == \"list\":\n",
    "                result[player_name] = list(points)\n",
    "        return result\n",
    "            \n",
    "    \n",
    "    def get_all_player_points(self, format_type=\"dict\"):\n",
    "        \"\"\"\n",
    "        returns a dict of ALL players and their gameweek score points.\n",
    "        specify format_type (by default a dictionary) of either\n",
    "        a list or dictionary to change the gameweek points as either a dictionary\n",
    "        of gameweek number and points or a list of just the points.\n",
    "        \"\"\"\n",
    "        result = dict()\n",
    "        print(self.player_ids)\n",
    "        for player_name in list(self.player_ids):\n",
    "            print(player_name)\n",
    "            data = self.get_data(player_name)\n",
    "            points = self.get_points_per_gameweek(data)\n",
    "            if format_type == \"dict\":\n",
    "                result[player_name] = dict(enumerate(points, start=1))\n",
    "            elif format_type == \"list\":\n",
    "                result[player_name] = list(points)\n",
    "        return result\n",
    "            \n",
    "            \n",
    "\n",
    "\n",
    "class HeadToHead(DraftData):\n",
    "\n",
    "    def __init__(self, player_ids, player1, player2):\n",
    "        super().__init__(player_ids)\n",
    "        self.player1 = player1\n",
    "        self.player2 = player2\n",
    "        self.players_scores = self.get_gameweeks_points(self.player1, self.player2)\n",
    "#         self.p1_points = self.get_gameweeks_points(self.player1)\n",
    "#         self.p2_points = self.get_gameweeks_points(self.player2)\n",
    "        print(self.players_scores)\n",
    "    \n",
    "    def get_id(self, player_name):\n",
    "        return self.player_ids[player_name]\n",
    "    \n",
    "        \n",
    "    def plot_linechart(self):\n",
    "        \"\"\"\n",
    "        plots the points and gameweeks for both players on a line chart\n",
    "        and returns the chart\n",
    "        \"\"\"\n",
    "        plt.style.use('ggplot')\n",
    "        \n",
    "        plt.minorticks_on()\n",
    "        \n",
    "        plt.plot(self.players_scores[self.player1].keys(), self.players_scores[self.player1].values())\n",
    "        plt.plot(self.players_scores[self.player2].keys(), self.players_scores[self.player2].values())\n",
    "        \n",
    "        plt.xlabel('gameweeks')\n",
    "        plt.ylabel('points')\n",
    "        plt.legend([self.player1, self.player2])\n",
    "        \n",
    "        plt.show()\n",
    "     \n",
    "    def headtohead_score(self):\n",
    "        \"\"\"\n",
    "        Compares the scores of each gameweek if players went head to head and returns\n",
    "        a dict of how many wins each and draws (if any).\n",
    "        \n",
    "        \"\"\"\n",
    "        p1_win = 0\n",
    "        p2_win = 0\n",
    "        draw = 0\n",
    "        for score in list(zip(self.players_scores[self.player1].values(), self.players_scores[self.player2].values())):\n",
    "            if score[0] > score[1]:\n",
    "                p1_win += 1\n",
    "            elif score[1] > score[0]:\n",
    "                p2_win += 1\n",
    "            elif score[0] == score[1]:\n",
    "                draw += 1\n",
    "        return {self.player1: p1_win, self.player2: p2_win, \"draw\": draw}\n",
    "    \n",
    "    def plot_barchart(self):\n",
    "        \"\"\"\n",
    "        Plots points and gameweeks for both players as a bar chart and returns\n",
    "        bar chart with the total head to head score. \n",
    "        \n",
    "        \"\"\"\n",
    "        \n",
    "        labels = list(self.players_scores[self.player1].keys())\n",
    "        \n",
    "\n",
    "        x = np.arange(len(labels))  # the label locations\n",
    "        width = 0.4  # the width of the bars\n",
    "\n",
    "        fig, ax = plt.subplots()\n",
    "        rects1 = ax.bar(x - width / 2, self.players_scores[self.player1].values(), width, label=self.player1)\n",
    "        rects2 = ax.bar(x + width / 2, self.players_scores[self.player2].values(), width, label=self.player2)\n",
    "\n",
    "        ax.set_ylabel('Points')\n",
    "        ax.set_title('Head to Head By Gameweek')\n",
    "        ax.set_xticks(x)\n",
    "        ax.set_xticklabels(labels)\n",
    "        ax.legend()\n",
    "\n",
    "        bbox_args = dict(boxstyle=\"round\", fc=\"0.8\")\n",
    "\n",
    "#         ax.annotate(f'{self.player1}: {self.headtohead_score()[self.player1]}\\n{self.player2}: {self.headtohead_score()[self.player2]}\\n draw: {self.headtohead_score()[\"draw\"]}', xy=(1, 1), xycoords='figure fraction',\n",
    "#                      xytext=(-20, -20), textcoords='offset points',\n",
    "#                      ha=\"right\", va=\"top\",\n",
    "#                      bbox=bbox_args,\n",
    "\n",
    "        ax.annotate(\n",
    "            f'{self.player1}: {self.headtohead_score()[self.player1]}\\n \\\n",
    "            {self.player2}: {self.headtohead_score()[self.player2]}\\n \\\n",
    "            draw: {self.headtohead_score()[\"draw\"]}',\n",
    "            xy=(1, 1), xycoords='figure fraction',\n",
    "            xytext=(-20, -20), textcoords='offset points',\n",
    "            ha=\"right\", va=\"top\",\n",
    "            bbox=bbox_args,\n",
    "        )\n",
    "\n",
    "        def autolabel(rects):\n",
    "            \"\"\"Attach a text label above each bar in *rects*, displaying its height.\"\"\"\n",
    "            for rect in rects:\n",
    "                height = rect.get_height()\n",
    "                ax.annotate('{}'.format(height),\n",
    "                            xy=(rect.get_x() + rect.get_width() / 2, height),\n",
    "                            xytext=(0, 3),  # 3 points vertical offset\n",
    "                            textcoords=\"offset points\",\n",
    "                            ha='center', va='bottom')\n",
    "\n",
    "\n",
    "        autolabel(rects1)\n",
    "        autolabel(rects2)\n",
    "\n",
    "        fig.tight_layout()\n",
    "\n",
    "        plt.show()\n",
    "        \n",
    "#------------------------------------------------------------------------------\n",
    "class LeagueStats(DraftData):\n",
    "    \n",
    "    \n",
    "    def __init__(self, player_ids):\n",
    "        super().__init__(player_ids)\n",
    "        self.all_player_scores = self.get_all_player_points(format_type='list')\n",
    "        print(self.all_player_scores)\n",
    "        \n",
    "    def calc_average(self, lst):\n",
    "        return sum(lst) // len(lst)\n",
    "    \n",
    "    def get_lowest_gameweek_scores(self):\n",
    "        \"\"\" returns lowest gameweek score of all players\"\"\"\n",
    "        return {\n",
    "            player: min(self.all_player_scores[player])\\\n",
    "            for player in self.all_player_scores\n",
    "        }\n",
    "    \n",
    "    def get_highest_gameweek_score(self):\n",
    "        \"\"\" returns highest gameweek score of all players\"\"\"\n",
    "        return {player: max(self.all_player_scores[player]) for player in self.all_player_scores}\n",
    "    \n",
    "    def get_average_gameweek_score(self):\n",
    "        \"\"\" returns average gameweek score of all players\"\"\"\n",
    "        return {player: self.calc_average(self.all_player_scores[player]) for player in self.all_player_scores}\n",
    "        \n",
    "    \n",
    "    def plot_boxplot(self):\n",
    "        pass\n",
    "    \n",
    "    def plot_averages_barchart(self):\n",
    "        pass\n",
    "\n"
   ]
  },
  {
   "cell_type": "code",
   "execution_count": 15,
   "metadata": {},
   "outputs": [
    {
     "name": "stdout",
     "output_type": "stream",
     "text": [
      "('Antony', 'Miguel')\n",
      "Antony\n",
      "Miguel\n",
      "{'Antony': {1: 43, 2: 38, 3: 47, 4: 43, 5: 24, 6: 48, 7: 49, 8: 29, 9: 42, 10: 32, 11: 49, 12: 39, 13: 40, 14: 45, 15: 30, 16: 61, 17: 57, 18: 17, 19: 107, 20: 36, 21: 41, 22: 44, 23: 46, 24: 55, 25: 63, 26: 66, 27: 34, 28: 44, 29: 20}, 'Miguel': {1: 74, 2: 86, 3: 42, 4: 67, 5: 46, 6: 52, 7: 69, 8: 43, 9: 64, 10: 54, 11: 60, 12: 36, 13: 49, 14: 64, 15: 33, 16: 34, 17: 36, 18: 26, 19: 99, 20: 50, 21: 47, 22: 55, 23: 56, 24: 71, 25: 55, 26: 55, 27: 34, 28: 77, 29: 4}}\n"
     ]
    }
   ],
   "source": [
    "h = HeadToHead(PLAYERS, 'Antony', 'Miguel')"
   ]
  },
  {
   "cell_type": "code",
   "execution_count": 11,
   "metadata": {},
   "outputs": [
    {
     "data": {
      "text/plain": [
       "{'Antony': 17,\n",
       " 'Miguel': 4,\n",
       " 'Manesh': 15,\n",
       " 'Zeeshan': 6,\n",
       " 'Llukman': 9,\n",
       " 'Asa': 19,\n",
       " 'Jimmy': 21,\n",
       " 'Michael': 19}"
      ]
     },
     "execution_count": 11,
     "metadata": {},
     "output_type": "execute_result"
    }
   ],
   "source": [
    "l.get_lowest_gameweek_scores()"
   ]
  },
  {
   "cell_type": "code",
   "execution_count": 6,
   "metadata": {
    "tags": []
   },
   "outputs": [],
   "source": [
    "i = DraftData()"
   ]
  },
  {
   "cell_type": "code",
   "execution_count": 8,
   "metadata": {
    "tags": []
   },
   "outputs": [],
   "source": [
    "deets = i.get_player_ids()"
   ]
  },
  {
   "cell_type": "code",
   "execution_count": 17,
   "metadata": {},
   "outputs": [
    {
     "name": "stdout",
     "output_type": "stream",
     "text": [
      "{'Akin': 39483}\n",
      "{'Marcus': 39626}\n",
      "{'Jonathan': 46176}\n",
      "{'Daniel': 50195}\n",
      "{'Michael': 55630}\n",
      "{'Emily': 55764}\n",
      "{'Antony': 56349}\n",
      "{'X': 58108}\n"
     ]
    }
   ],
   "source": [
    "for player in deets['league_entries']:\n",
    "    print({player['player_first_name']:player['entry_id']})"
   ]
  },
  {
   "cell_type": "code",
   "execution_count": null,
   "metadata": {},
   "outputs": [],
   "source": [
    "for players in deets"
   ]
  },
  {
   "cell_type": "code",
   "execution_count": null,
   "metadata": {},
   "outputs": [],
   "source": []
  },
  {
   "cell_type": "code",
   "execution_count": null,
   "metadata": {},
   "outputs": [],
   "source": []
  },
  {
   "cell_type": "code",
   "execution_count": 8,
   "metadata": {},
   "outputs": [
    {
     "ename": "TypeError",
     "evalue": "object.__init__() takes exactly one argument (the instance to initialize)",
     "output_type": "error",
     "traceback": [
      "\u001b[0;31m---------------------------------------------------------------------------\u001b[0m",
      "\u001b[0;31mTypeError\u001b[0m                                 Traceback (most recent call last)",
      "\u001b[0;32m<ipython-input-8-a42cc80b656d>\u001b[0m in \u001b[0;36m<module>\u001b[0;34m\u001b[0m\n\u001b[0;32m----> 1\u001b[0;31m \u001b[0ma\u001b[0m \u001b[0;34m=\u001b[0m \u001b[0mLeagueStats\u001b[0m\u001b[0;34m(\u001b[0m\u001b[0mPLAYERS\u001b[0m\u001b[0;34m)\u001b[0m\u001b[0;34m\u001b[0m\u001b[0;34m\u001b[0m\u001b[0m\n\u001b[0m",
      "\u001b[0;32m<ipython-input-6-4db3aa45961f>\u001b[0m in \u001b[0;36m__init__\u001b[0;34m(self, player_ids)\u001b[0m\n\u001b[1;32m    198\u001b[0m \u001b[0;34m\u001b[0m\u001b[0m\n\u001b[1;32m    199\u001b[0m     \u001b[0;32mdef\u001b[0m \u001b[0m__init__\u001b[0m\u001b[0;34m(\u001b[0m\u001b[0mself\u001b[0m\u001b[0;34m,\u001b[0m \u001b[0mplayer_ids\u001b[0m\u001b[0;34m)\u001b[0m\u001b[0;34m:\u001b[0m\u001b[0;34m\u001b[0m\u001b[0;34m\u001b[0m\u001b[0m\n\u001b[0;32m--> 200\u001b[0;31m         \u001b[0msuper\u001b[0m\u001b[0;34m(\u001b[0m\u001b[0;34m)\u001b[0m\u001b[0;34m.\u001b[0m\u001b[0m__init__\u001b[0m\u001b[0;34m(\u001b[0m\u001b[0mplayer_ids\u001b[0m\u001b[0;34m)\u001b[0m\u001b[0;34m\u001b[0m\u001b[0;34m\u001b[0m\u001b[0m\n\u001b[0m\u001b[1;32m    201\u001b[0m         \u001b[0mself\u001b[0m\u001b[0;34m.\u001b[0m\u001b[0mall_player_scores\u001b[0m \u001b[0;34m=\u001b[0m \u001b[0mself\u001b[0m\u001b[0;34m.\u001b[0m\u001b[0mget_all_player_points\u001b[0m\u001b[0;34m(\u001b[0m\u001b[0mformat_type\u001b[0m\u001b[0;34m=\u001b[0m\u001b[0;34m'list'\u001b[0m\u001b[0;34m)\u001b[0m\u001b[0;34m\u001b[0m\u001b[0;34m\u001b[0m\u001b[0m\n\u001b[1;32m    202\u001b[0m         \u001b[0mprint\u001b[0m\u001b[0;34m(\u001b[0m\u001b[0mself\u001b[0m\u001b[0;34m.\u001b[0m\u001b[0mall_player_scores\u001b[0m\u001b[0;34m)\u001b[0m\u001b[0;34m\u001b[0m\u001b[0;34m\u001b[0m\u001b[0m\n",
      "\u001b[0;31mTypeError\u001b[0m: object.__init__() takes exactly one argument (the instance to initialize)"
     ]
    }
   ],
   "source": [
    "a = LeagueStats(PLAYERS)"
   ]
  },
  {
   "cell_type": "code",
   "execution_count": 59,
   "metadata": {},
   "outputs": [
    {
     "data": {
      "text/plain": [
       "{'Antony': 17,\n",
       " 'Miguel': 4,\n",
       " 'Manesh': 15,\n",
       " 'Zeeshan': 6,\n",
       " 'Llukman': 9,\n",
       " 'Asa': 19,\n",
       " 'Jimmy': 21,\n",
       " 'Michael': 19}"
      ]
     },
     "execution_count": 59,
     "metadata": {},
     "output_type": "execute_result"
    }
   ],
   "source": [
    "a.get_lowest_gameweek_scores()"
   ]
  },
  {
   "cell_type": "code",
   "execution_count": 60,
   "metadata": {},
   "outputs": [
    {
     "data": {
      "text/plain": [
       "{'Antony': 107,\n",
       " 'Miguel': 99,\n",
       " 'Manesh': 80,\n",
       " 'Zeeshan': 75,\n",
       " 'Llukman': 87,\n",
       " 'Asa': 74,\n",
       " 'Jimmy': 88,\n",
       " 'Michael': 80}"
      ]
     },
     "execution_count": 60,
     "metadata": {},
     "output_type": "execute_result"
    }
   ],
   "source": [
    "a.get_highest_gameweek_score()"
   ]
  },
  {
   "cell_type": "code",
   "execution_count": 61,
   "metadata": {},
   "outputs": [
    {
     "data": {
      "text/plain": [
       "{'Antony': 44,\n",
       " 'Miguel': 53,\n",
       " 'Manesh': 43,\n",
       " 'Zeeshan': 42,\n",
       " 'Llukman': 44,\n",
       " 'Asa': 40,\n",
       " 'Jimmy': 43,\n",
       " 'Michael': 40}"
      ]
     },
     "execution_count": 61,
     "metadata": {},
     "output_type": "execute_result"
    }
   ],
   "source": [
    "a.get_average_gameweek_score()"
   ]
  },
  {
   "cell_type": "code",
   "execution_count": null,
   "metadata": {},
   "outputs": [],
   "source": []
  },
  {
   "cell_type": "code",
   "execution_count": 15,
   "metadata": {},
   "outputs": [],
   "source": [
    "d = DraftData(PLAYERS)"
   ]
  },
  {
   "cell_type": "code",
   "execution_count": 41,
   "metadata": {},
   "outputs": [
    {
     "name": "stdout",
     "output_type": "stream",
     "text": [
      "('Antony', 'Miguel')\n",
      "Antony\n",
      "Miguel\n",
      "{'Antony': {1: 43, 2: 38, 3: 47, 4: 43, 5: 24, 6: 48, 7: 49, 8: 29, 9: 42, 10: 32, 11: 49, 12: 39, 13: 40, 14: 45, 15: 30, 16: 61, 17: 57, 18: 17, 19: 107, 20: 36, 21: 41, 22: 44, 23: 46, 24: 55, 25: 63, 26: 66, 27: 34, 28: 44, 29: 20}, 'Miguel': {1: 74, 2: 86, 3: 42, 4: 67, 5: 46, 6: 52, 7: 69, 8: 43, 9: 64, 10: 54, 11: 60, 12: 36, 13: 49, 14: 64, 15: 33, 16: 34, 17: 36, 18: 26, 19: 99, 20: 50, 21: 47, 22: 55, 23: 56, 24: 71, 25: 55, 26: 55, 27: 34, 28: 77, 29: 4}}\n"
     ]
    }
   ],
   "source": [
    "p = HeadToHead(PLAYERS, 'Antony', 'Miguel')"
   ]
  },
  {
   "cell_type": "code",
   "execution_count": 42,
   "metadata": {},
   "outputs": [
    {
     "data": {
      "text/plain": [
       "{'Antony': 8, 'Miguel': 20, 'draw': 1}"
      ]
     },
     "execution_count": 42,
     "metadata": {},
     "output_type": "execute_result"
    }
   ],
   "source": [
    "p.headtohead_score()"
   ]
  },
  {
   "cell_type": "code",
   "execution_count": 43,
   "metadata": {},
   "outputs": [
    {
     "data": {
      "image/png": "[encoded data removed]",
      "text/plain": [
       "<Figure size 432x288 with 1 Axes>"
      ]
     },
     "metadata": {
      "needs_background": "light"
     },
     "output_type": "display_data"
    }
   ],
   "source": [
    "p.plot_barchart()"
   ]
  },
  {
   "cell_type": "code",
   "execution_count": 44,
   "metadata": {},
   "outputs": [
    {
     "data": {
      "image/png": "[encoded data removed]",
      "text/plain": [
       "<Figure size 432x288 with 1 Axes>"
      ]
     },
     "metadata": {},
     "output_type": "display_data"
    }
   ],
   "source": [
    "p.plot_linechart()"
   ]
  },
  {
   "cell_type": "code",
   "execution_count": null,
   "metadata": {},
   "outputs": [],
   "source": []
  },
  {
   "cell_type": "markdown",
   "metadata": {},
   "source": [
    "---"
   ]
  },
  {
   "cell_type": "code",
   "execution_count": 10,
   "metadata": {},
   "outputs": [],
   "source": [
    "a = h.get_gameweeks_points('Antony')"
   ]
  },
  {
   "cell_type": "code",
   "execution_count": 13,
   "metadata": {},
   "outputs": [
    {
     "data": {
      "text/plain": [
       "dict_values([43, 38, 47, 43, 24, 48, 49, 29, 42, 32, 49, 39, 40, 45, 30, 61, 57, 17, 107, 36, 41, 44, 46, 55, 63, 66])"
      ]
     },
     "execution_count": 13,
     "metadata": {},
     "output_type": "execute_result"
    }
   ],
   "source": [
    "a['Antony'].values()"
   ]
  },
  {
   "cell_type": "code",
   "execution_count": 59,
   "metadata": {},
   "outputs": [
    {
     "data": {
      "text/plain": [
       "dict_values([43, 38, 47, 43, 24, 48, 49, 29, 42, 32, 49, 39, 40, 45, 30, 61, 57, 17, 107, 36, 41, 44, 46, 55, 63])"
      ]
     },
     "execution_count": 59,
     "metadata": {},
     "output_type": "execute_result"
    }
   ],
   "source": [
    "a.values()"
   ]
  },
  {
   "cell_type": "code",
   "execution_count": 54,
   "metadata": {},
   "outputs": [],
   "source": [
    "m = h.get_gameweeks_points('Miguel')"
   ]
  },
  {
   "cell_type": "code",
   "execution_count": 57,
   "metadata": {},
   "outputs": [
    {
     "data": {
      "text/plain": [
       "dict_values([74, 86, 42, 67, 46, 52, 69, 43, 64, 54, 60, 36, 49, 64, 33, 34, 36, 26, 99, 50, 47, 55, 56, 71, 55])"
      ]
     },
     "execution_count": 57,
     "metadata": {},
     "output_type": "execute_result"
    }
   ],
   "source": [
    "m.values()"
   ]
  },
  {
   "cell_type": "code",
   "execution_count": 8,
   "metadata": {},
   "outputs": [],
   "source": [
    "m2 = [74, 86, 42, 67, 46, 52, 69, 43, 64, 54, 60, 36, 49, 64, 33, 34, 36, 26, 99, 50, 47, 55, 56, 71, 55]"
   ]
  },
  {
   "cell_type": "code",
   "execution_count": 7,
   "metadata": {},
   "outputs": [],
   "source": [
    "a2 = [43, 38, 47, 43, 24, 48, 49, 29, 42, 32, 49, 39, 40, 45, 30, 61, 57, 17, 107, 36, 41, 44, 46, 55, 63]"
   ]
  },
  {
   "cell_type": "code",
   "execution_count": 9,
   "metadata": {},
   "outputs": [],
   "source": [
    "m3 = [74, 86, 42, 67, 46]"
   ]
  },
  {
   "cell_type": "code",
   "execution_count": 10,
   "metadata": {},
   "outputs": [],
   "source": [
    "a3 = [74, 38, 47, 43, 24]"
   ]
  },
  {
   "cell_type": "code",
   "execution_count": 11,
   "metadata": {},
   "outputs": [],
   "source": [
    "m4 = dict(enumerate(m3, start=1))"
   ]
  },
  {
   "cell_type": "code",
   "execution_count": 12,
   "metadata": {},
   "outputs": [],
   "source": [
    "a4 = dict(enumerate(a3, start=1))"
   ]
  },
  {
   "cell_type": "code",
   "execution_count": 24,
   "metadata": {},
   "outputs": [
    {
     "data": {
      "text/plain": [
       "({1: 74, 2: 86, 3: 42, 4: 67, 5: 46}, {1: 74, 2: 38, 3: 47, 4: 43, 5: 24})"
      ]
     },
     "execution_count": 24,
     "metadata": {},
     "output_type": "execute_result"
    }
   ],
   "source": [
    "m4, a4"
   ]
  },
  {
   "cell_type": "code",
   "execution_count": 29,
   "metadata": {},
   "outputs": [
    {
     "data": {
      "text/plain": [
       "[(74, 74), (38, 86), (47, 42), (43, 67), (24, 46)]"
      ]
     },
     "execution_count": 29,
     "metadata": {},
     "output_type": "execute_result"
    }
   ],
   "source": [
    "list(zip(a4.values(), m4.values()))"
   ]
  },
  {
   "cell_type": "code",
   "execution_count": 93,
   "metadata": {},
   "outputs": [
    {
     "data": {
      "text/plain": [
       "[1, 2, 3, 4, 5]"
      ]
     },
     "execution_count": 93,
     "metadata": {},
     "output_type": "execute_result"
    }
   ],
   "source": [
    "list(a4.keys())"
   ]
  },
  {
   "cell_type": "code",
   "execution_count": null,
   "metadata": {},
   "outputs": [],
   "source": []
  },
  {
   "cell_type": "code",
   "execution_count": 68,
   "metadata": {},
   "outputs": [
    {
     "data": {
      "text/plain": [
       "54"
      ]
     },
     "execution_count": 68,
     "metadata": {},
     "output_type": "execute_result"
    }
   ],
   "source": [
    "sum(m2) // len(m2)"
   ]
  },
  {
   "cell_type": "code",
   "execution_count": 13,
   "metadata": {},
   "outputs": [],
   "source": [
    "def headtohead_score(p1, p2):   \n",
    "    a_win = 0\n",
    "    m_win = 0\n",
    "    draw = 0\n",
    "    for item in list(zip(p1.values(), p2.values())):\n",
    "        if item[0] > item[1]:\n",
    "            a_win += 1\n",
    "        elif item[1] > item[0]:\n",
    "            m_win += 1\n",
    "        elif item[0] == item[1]:\n",
    "            draw += 1\n",
    "    return {\"a\": a_win, \"m\": m_win, \"draw\": draw}"
   ]
  },
  {
   "cell_type": "code",
   "execution_count": 14,
   "metadata": {},
   "outputs": [],
   "source": [
    "h2h = headtohead_score(a4, m4)"
   ]
  },
  {
   "cell_type": "code",
   "execution_count": 49,
   "metadata": {},
   "outputs": [
    {
     "data": {
      "text/plain": [
       "1"
      ]
     },
     "execution_count": 49,
     "metadata": {},
     "output_type": "execute_result"
    }
   ],
   "source": [
    "h2h['a']"
   ]
  },
  {
   "cell_type": "code",
   "execution_count": null,
   "metadata": {},
   "outputs": [],
   "source": []
  },
  {
   "cell_type": "code",
   "execution_count": 20,
   "metadata": {},
   "outputs": [
    {
     "data": {
      "image/png": "[encoded data removed]",
      "text/plain": [
       "<Figure size 432x288 with 1 Axes>"
      ]
     },
     "metadata": {
      "needs_background": "light"
     },
     "output_type": "display_data"
    }
   ],
   "source": [
    "labels = list(range(1, len(a2) + 1))\n",
    "\n",
    "x = np.arange(len(labels))  # the label locations\n",
    "width = 0.3  # the width of the bars\n",
    "\n",
    "fig, ax = plt.subplots()\n",
    "rects1 = ax.bar(x - width / 2, a2, width, label='Ant')\n",
    "rects2 = ax.bar(x + width / 2, m2, width, label='Mig')\n",
    "\n",
    "# Add some text for labels, title and custom x-axis tick labels, etc.\n",
    "ax.set_ylabel('Points')\n",
    "ax.set_title('Head to Head By Gameweek')\n",
    "ax.set_xticks(x)\n",
    "ax.set_xticklabels(labels)\n",
    "ax.legend()\n",
    "\n",
    "bbox_args = dict(boxstyle=\"round\", fc=\"0.8\")\n",
    "arrow_args = dict(arrowstyle=\"->\")\n",
    "\n",
    "# ax.annotate(f'Zeeshan 12\\nLlukman 13\\ndraw 1', xy=(1, 1), xycoords='figure fraction',\n",
    "#              xytext=(-20, -20), textcoords='offset points',\n",
    "#              ha=\"right\", va=\"top\",\n",
    "#              bbox=bbox_args,\n",
    "#              arrowprops=arrow_args)\n",
    "\n",
    "ax.annotate(f'A: {h2h[\"a\"]}\\n \\\n",
    "            M: {h2h[\"m\"]}\\n \\\n",
    "            draw: {h2h[\"draw\"]}',\n",
    "            xy=(1, 1), xycoords='figure fraction',\n",
    "            xytext=(-20, -20), textcoords='offset points',\n",
    "            ha=\"right\", va=\"top\",\n",
    "            bbox=bbox_args,\n",
    "            arrowprops=arrow_args\n",
    "           )\n",
    "\n",
    "\n",
    "def autolabel(rects):\n",
    "    \"\"\"Attach a text label above each bar in *rects*, displaying its height.\"\"\"\n",
    "    for rect in rects:\n",
    "        height = rect.get_height()\n",
    "        ax.annotate('{}'.format(height),\n",
    "                    xy=(rect.get_x() + rect.get_width() / 2, height),\n",
    "                    xytext=(0, 3),  # 3 points vertical offset\n",
    "                    textcoords=\"offset points\",\n",
    "                    ha='center', va='bottom')\n",
    "\n",
    "\n",
    "autolabel(rects1)\n",
    "autolabel(rects2)\n",
    "\n",
    "\n",
    "plt.show()"
   ]
  },
  {
   "cell_type": "code",
   "execution_count": null,
   "metadata": {},
   "outputs": [],
   "source": []
  },
  {
   "cell_type": "code",
   "execution_count": 30,
   "metadata": {},
   "outputs": [
    {
     "data": {
      "image/png": "[encoded data removed]",
      "text/plain": [
       "<Figure size 432x288 with 1 Axes>"
      ]
     },
     "metadata": {},
     "output_type": "display_data"
    }
   ],
   "source": [
    "plt.plot(p.keys(), p.values())\n",
    "plt.minorticks_on()\n",
    "plt.show()"
   ]
  },
  {
   "cell_type": "code",
   "execution_count": 94,
   "metadata": {},
   "outputs": [
    {
     "data": {
      "image/png": "[encoded data removed]",
      "text/plain": [
       "<Figure size 640x480 with 1 Axes>"
      ]
     },
     "metadata": {},
     "output_type": "display_data"
    }
   ],
   "source": [
    "plt.style.use('bmh')\n",
    "plt.minorticks_on()\n",
    "plt.boxplot([a2, m2], labels=['Antony', 'Miguel'])\n",
    "plt.show()"
   ]
  },
  {
   "cell_type": "code",
   "execution_count": 72,
   "metadata": {},
   "outputs": [
    {
     "name": "stdout",
     "output_type": "stream",
     "text": [
      "['Solarize_Light2', '_classic_test_patch', 'bmh', 'classic', 'dark_background', 'fast', 'fivethirtyeight', 'ggplot', 'grayscale', 'seaborn', 'seaborn-bright', 'seaborn-colorblind', 'seaborn-dark', 'seaborn-dark-palette', 'seaborn-darkgrid', 'seaborn-deep', 'seaborn-muted', 'seaborn-notebook', 'seaborn-paper', 'seaborn-pastel', 'seaborn-poster', 'seaborn-talk', 'seaborn-ticks', 'seaborn-white', 'seaborn-whitegrid', 'tableau-colorblind10']\n"
     ]
    }
   ],
   "source": [
    "print(plt.style.available)"
   ]
  },
  {
   "cell_type": "code",
   "execution_count": 66,
   "metadata": {},
   "outputs": [],
   "source": [
    "points = [43,38,47,43,24,48,49]"
   ]
  },
  {
   "cell_type": "code",
   "execution_count": null,
   "metadata": {},
   "outputs": [],
   "source": []
  },
  {
   "cell_type": "code",
   "execution_count": 71,
   "metadata": {},
   "outputs": [],
   "source": [
    "d = DraftData(PLAYERS)"
   ]
  },
  {
   "cell_type": "code",
   "execution_count": 43,
   "metadata": {},
   "outputs": [
    {
     "data": {
      "text/plain": [
       "{'Ant': {0: 1, 1: 2, 2: 3, 3: 4}}"
      ]
     },
     "execution_count": 43,
     "metadata": {},
     "output_type": "execute_result"
    }
   ],
   "source": [
    "{name: dict(enumerate(nums))}"
   ]
  },
  {
   "cell_type": "code",
   "execution_count": 56,
   "metadata": {},
   "outputs": [],
   "source": [
    "all_player_points = list(map(d.get_gameweeks_points, PLAYERS.keys()))"
   ]
  },
  {
   "cell_type": "code",
   "execution_count": 63,
   "metadata": {},
   "outputs": [
    {
     "data": {
      "text/plain": [
       "dict_values([43, 38, 47, 43, 24, 48, 49, 29, 42, 32, 49, 39, 40, 45, 30, 61, 57, 17, 107, 36, 41, 44, 46, 55, 63, 47])"
      ]
     },
     "execution_count": 63,
     "metadata": {},
     "output_type": "execute_result"
    }
   ],
   "source": [
    "all_player_points[0]['Antony'].values()"
   ]
  },
  {
   "cell_type": "code",
   "execution_count": 64,
   "metadata": {
    "collapsed": true,
    "jupyter": {
     "outputs_hidden": true
    }
   },
   "outputs": [
    {
     "data": {
      "text/plain": [
       "[{'Antony': {1: 43,\n",
       "   2: 38,\n",
       "   3: 47,\n",
       "   4: 43,\n",
       "   5: 24,\n",
       "   6: 48,\n",
       "   7: 49,\n",
       "   8: 29,\n",
       "   9: 42,\n",
       "   10: 32,\n",
       "   11: 49,\n",
       "   12: 39,\n",
       "   13: 40,\n",
       "   14: 45,\n",
       "   15: 30,\n",
       "   16: 61,\n",
       "   17: 57,\n",
       "   18: 17,\n",
       "   19: 107,\n",
       "   20: 36,\n",
       "   21: 41,\n",
       "   22: 44,\n",
       "   23: 46,\n",
       "   24: 55,\n",
       "   25: 63,\n",
       "   26: 47}},\n",
       " {'Miguel': {1: 74,\n",
       "   2: 86,\n",
       "   3: 42,\n",
       "   4: 67,\n",
       "   5: 46,\n",
       "   6: 52,\n",
       "   7: 69,\n",
       "   8: 43,\n",
       "   9: 64,\n",
       "   10: 54,\n",
       "   11: 60,\n",
       "   12: 36,\n",
       "   13: 49,\n",
       "   14: 64,\n",
       "   15: 33,\n",
       "   16: 34,\n",
       "   17: 36,\n",
       "   18: 26,\n",
       "   19: 99,\n",
       "   20: 50,\n",
       "   21: 47,\n",
       "   22: 55,\n",
       "   23: 56,\n",
       "   24: 71,\n",
       "   25: 55,\n",
       "   26: 45}},\n",
       " {'Manesh': {1: 40,\n",
       "   2: 55,\n",
       "   3: 27,\n",
       "   4: 80,\n",
       "   5: 49,\n",
       "   6: 45,\n",
       "   7: 67,\n",
       "   8: 45,\n",
       "   9: 39,\n",
       "   10: 32,\n",
       "   11: 57,\n",
       "   12: 43,\n",
       "   13: 21,\n",
       "   14: 51,\n",
       "   15: 24,\n",
       "   16: 16,\n",
       "   17: 39,\n",
       "   18: 32,\n",
       "   19: 69,\n",
       "   20: 37,\n",
       "   21: 33,\n",
       "   22: 55,\n",
       "   23: 49,\n",
       "   24: 28,\n",
       "   25: 34,\n",
       "   26: 55}},\n",
       " {'Zeeshan': {1: 26,\n",
       "   2: 26,\n",
       "   3: 50,\n",
       "   4: 24,\n",
       "   5: 54,\n",
       "   6: 26,\n",
       "   7: 30,\n",
       "   8: 47,\n",
       "   9: 45,\n",
       "   10: 35,\n",
       "   11: 34,\n",
       "   12: 43,\n",
       "   13: 36,\n",
       "   14: 44,\n",
       "   15: 59,\n",
       "   16: 39,\n",
       "   17: 44,\n",
       "   18: 31,\n",
       "   19: 75,\n",
       "   20: 43,\n",
       "   21: 52,\n",
       "   22: 61,\n",
       "   23: 43,\n",
       "   24: 64,\n",
       "   25: 56,\n",
       "   26: 49}},\n",
       " {'Llukman': {1: 29,\n",
       "   2: 87,\n",
       "   3: 41,\n",
       "   4: 9,\n",
       "   5: 21,\n",
       "   6: 55,\n",
       "   7: 51,\n",
       "   8: 58,\n",
       "   9: 48,\n",
       "   10: 54,\n",
       "   11: 46,\n",
       "   12: 34,\n",
       "   13: 38,\n",
       "   14: 47,\n",
       "   15: 38,\n",
       "   16: 42,\n",
       "   17: 64,\n",
       "   18: 22,\n",
       "   19: 72,\n",
       "   20: 43,\n",
       "   21: 47,\n",
       "   22: 38,\n",
       "   23: 40,\n",
       "   24: 50,\n",
       "   25: 36,\n",
       "   26: 54}},\n",
       " {'Asa': {1: 40,\n",
       "   2: 25,\n",
       "   3: 51,\n",
       "   4: 23,\n",
       "   5: 47,\n",
       "   6: 40,\n",
       "   7: 62,\n",
       "   8: 37,\n",
       "   9: 34,\n",
       "   10: 44,\n",
       "   11: 37,\n",
       "   12: 53,\n",
       "   13: 24,\n",
       "   14: 40,\n",
       "   15: 36,\n",
       "   16: 19,\n",
       "   17: 39,\n",
       "   18: 20,\n",
       "   19: 74,\n",
       "   20: 33,\n",
       "   21: 48,\n",
       "   22: 25,\n",
       "   23: 41,\n",
       "   24: 55,\n",
       "   25: 33,\n",
       "   26: 58}},\n",
       " {'Jimmy': {1: 30,\n",
       "   2: 31,\n",
       "   3: 21,\n",
       "   4: 39,\n",
       "   5: 52,\n",
       "   6: 42,\n",
       "   7: 54,\n",
       "   8: 44,\n",
       "   9: 42,\n",
       "   10: 35,\n",
       "   11: 30,\n",
       "   12: 29,\n",
       "   13: 27,\n",
       "   14: 43,\n",
       "   15: 36,\n",
       "   16: 36,\n",
       "   17: 36,\n",
       "   18: 31,\n",
       "   19: 88,\n",
       "   20: 54,\n",
       "   21: 29,\n",
       "   22: 51,\n",
       "   23: 74,\n",
       "   24: 75,\n",
       "   25: 41,\n",
       "   26: 51}},\n",
       " {'Michael': {1: 19,\n",
       "   2: 53,\n",
       "   3: 47,\n",
       "   4: 29,\n",
       "   5: 26,\n",
       "   6: 39,\n",
       "   7: 28,\n",
       "   8: 35,\n",
       "   9: 51,\n",
       "   10: 41,\n",
       "   11: 26,\n",
       "   12: 37,\n",
       "   13: 35,\n",
       "   14: 26,\n",
       "   15: 45,\n",
       "   16: 45,\n",
       "   17: 47,\n",
       "   18: 25,\n",
       "   19: 58,\n",
       "   20: 61,\n",
       "   21: 29,\n",
       "   22: 21,\n",
       "   23: 43,\n",
       "   24: 57,\n",
       "   25: 44,\n",
       "   26: 56}}]"
      ]
     },
     "execution_count": 64,
     "metadata": {},
     "output_type": "execute_result"
    }
   ],
   "source": [
    "all_player_points"
   ]
  },
  {
   "cell_type": "code",
   "execution_count": 34,
   "metadata": {},
   "outputs": [],
   "source": [
    "def mult_2(*n):\n",
    "    return [num * 2 for num in n]"
   ]
  },
  {
   "cell_type": "code",
   "execution_count": 35,
   "metadata": {},
   "outputs": [
    {
     "data": {
      "text/plain": [
       "[20, 40, 60]"
      ]
     },
     "execution_count": 35,
     "metadata": {},
     "output_type": "execute_result"
    }
   ],
   "source": [
    "mult_2(10, 20, 30)"
   ]
  },
  {
   "cell_type": "code",
   "execution_count": 36,
   "metadata": {},
   "outputs": [
    {
     "data": {
      "text/plain": [
       "('Antony', 'Miguel', 'Manesh', 'Zeeshan', 'Llukman', 'Asa', 'Jimmy', 'Michael')"
      ]
     },
     "execution_count": 36,
     "metadata": {},
     "output_type": "execute_result"
    }
   ],
   "source": [
    "tuple(PLAYERS)"
   ]
  },
  {
   "cell_type": "code",
   "execution_count": 11,
   "metadata": {
    "jupyter": {
     "source_hidden": true
    },
    "tags": []
   },
   "outputs": [],
   "source": [
    "players_points = [\n",
    "    {\"Antony\": {\n",
    "            1: 43,\n",
    "            2: 38,\n",
    "            3: 47,\n",
    "            4: 43,\n",
    "            5: 24,\n",
    "            6: 48,\n",
    "            7: 49,\n",
    "            8: 29,\n",
    "            9: 42,\n",
    "            10: 32,\n",
    "            11: 49,\n",
    "            12: 39,\n",
    "            13: 40,\n",
    "            14: 45,\n",
    "            15: 30,\n",
    "            16: 61,\n",
    "            17: 57,\n",
    "            18: 17,\n",
    "            19: 107,\n",
    "            20: 36,\n",
    "            21: 41,\n",
    "            22: 44,\n",
    "            23: 46,\n",
    "            24: 55,\n",
    "            25: 63,\n",
    "            26: 47\n",
    "        }\n",
    "    },\n",
    "    {\"Miguel\": {\n",
    "            1: 74,\n",
    "            2: 86,\n",
    "            3: 42,\n",
    "            4: 67,\n",
    "            5: 46,\n",
    "            6: 52,\n",
    "            7: 69,\n",
    "            8: 43,\n",
    "            9: 64,\n",
    "            10: 54,\n",
    "            11: 60,\n",
    "            12: 36,\n",
    "            13: 49,\n",
    "            14: 64,\n",
    "            15: 33,\n",
    "            16: 34,\n",
    "            17: 36,\n",
    "            18: 26,\n",
    "            19: 99,\n",
    "            20: 50,\n",
    "            21: 47,\n",
    "            22: 55,\n",
    "            23: 56,\n",
    "            24: 71,\n",
    "            25: 55,\n",
    "            26: 45\n",
    "        }\n",
    "    },\n",
    "    {\"Manesh\": {\n",
    "            1: 40,\n",
    "            2: 55,\n",
    "            3: 27,\n",
    "            4: 80,\n",
    "            5: 49,\n",
    "            6: 45,\n",
    "            7: 67,\n",
    "            8: 45,\n",
    "            9: 39,\n",
    "            10: 32,\n",
    "            11: 57,\n",
    "            12: 43,\n",
    "            13: 21,\n",
    "            14: 51,\n",
    "            15: 24,\n",
    "            16: 16,\n",
    "            17: 39,\n",
    "            18: 32,\n",
    "            19: 69,\n",
    "            20: 37,\n",
    "            21: 33,\n",
    "            22: 55,\n",
    "            23: 49,\n",
    "            24: 28,\n",
    "            25: 34,\n",
    "            26: 55\n",
    "        }\n",
    "    },\n",
    "    {\"Zeeshan\": {\n",
    "            1: 26,\n",
    "            2: 26,\n",
    "            3: 50,\n",
    "            4: 24,\n",
    "            5: 54,\n",
    "            6: 26,\n",
    "            7: 30,\n",
    "            8: 47,\n",
    "            9: 45,\n",
    "            10: 35,\n",
    "            11: 34,\n",
    "            12: 43,\n",
    "            13: 36,\n",
    "            14: 44,\n",
    "            15: 59,\n",
    "            16: 39,\n",
    "            17: 44,\n",
    "            18: 31,\n",
    "            19: 75,\n",
    "            20: 43,\n",
    "            21: 52,\n",
    "            22: 61,\n",
    "            23: 43,\n",
    "            24: 64,\n",
    "            25: 56,\n",
    "            26: 49\n",
    "        }\n",
    "    },\n",
    "    {\"Llukman\": {\n",
    "            1: 29,\n",
    "            2: 87,\n",
    "            3: 41,\n",
    "            4: 9,\n",
    "            5: 21,\n",
    "            6: 55,\n",
    "            7: 51,\n",
    "            8: 58,\n",
    "            9: 48,\n",
    "            10: 54,\n",
    "            11: 46,\n",
    "            12: 34,\n",
    "            13: 38,\n",
    "            14: 47,\n",
    "            15: 38,\n",
    "            16: 42,\n",
    "            17: 64,\n",
    "            18: 22,\n",
    "            19: 72,\n",
    "            20: 43,\n",
    "            21: 47,\n",
    "            22: 38,\n",
    "            23: 40,\n",
    "            24: 50,\n",
    "            25: 36,\n",
    "            26: 54\n",
    "        }\n",
    "    },\n",
    "    {\"Asa\": {\n",
    "            1: 40,\n",
    "            2: 25,\n",
    "            3: 51,\n",
    "            4: 23,\n",
    "            5: 47,\n",
    "            6: 40,\n",
    "            7: 62,\n",
    "            8: 37,\n",
    "            9: 34,\n",
    "            10: 44,\n",
    "            11: 37,\n",
    "            12: 53,\n",
    "            13: 24,\n",
    "            14: 40,\n",
    "            15: 36,\n",
    "            16: 19,\n",
    "            17: 39,\n",
    "            18: 20,\n",
    "            19: 74,\n",
    "            20: 33,\n",
    "            21: 48,\n",
    "            22: 25,\n",
    "            23: 41,\n",
    "            24: 55,\n",
    "            25: 33,\n",
    "            26: 58\n",
    "        }\n",
    "    },\n",
    "    {\"Jimmy\": {\n",
    "            1: 30,\n",
    "            2: 31,\n",
    "            3: 21,\n",
    "            4: 39,\n",
    "            5: 52,\n",
    "            6: 42,\n",
    "            7: 54,\n",
    "            8: 44,\n",
    "            9: 42,\n",
    "            10: 35,\n",
    "            11: 30,\n",
    "            12: 29,\n",
    "            13: 27,\n",
    "            14: 43,\n",
    "            15: 36,\n",
    "            16: 36,\n",
    "            17: 36,\n",
    "            18: 31,\n",
    "            19: 88,\n",
    "            20: 54,\n",
    "            21: 29,\n",
    "            22: 51,\n",
    "            23: 74,\n",
    "            24: 75,\n",
    "            25: 41,\n",
    "            26: 51\n",
    "        }\n",
    "    },\n",
    "    {\"Michael\": {\n",
    "            1: 19,\n",
    "            2: 53,\n",
    "            3: 47,\n",
    "            4: 29,\n",
    "            5: 26,\n",
    "            6: 39,\n",
    "            7: 28,\n",
    "            8: 35,\n",
    "            9: 51,\n",
    "            10: 41,\n",
    "            11: 26,\n",
    "            12: 37,\n",
    "            13: 35,\n",
    "            14: 26,\n",
    "            15: 45,\n",
    "            16: 45,\n",
    "            17: 47,\n",
    "            18: 25,\n",
    "            19: 58,\n",
    "            20: 61,\n",
    "            21: 29,\n",
    "            22: 21,\n",
    "            23: 43,\n",
    "            24: 57,\n",
    "            25: 44,\n",
    "            26: 56\n",
    "        }\n",
    "    }\n",
    "]\n"
   ]
  },
  {
   "cell_type": "code",
   "execution_count": 66,
   "metadata": {},
   "outputs": [
    {
     "name": "stdout",
     "output_type": "stream",
     "text": [
      "dict_values([{1: 43, 2: 38, 3: 47, 4: 43, 5: 24, 6: 48, 7: 49, 8: 29, 9: 42, 10: 32, 11: 49, 12: 39, 13: 40, 14: 45, 15: 30, 16: 61, 17: 57, 18: 17, 19: 107, 20: 36, 21: 41, 22: 44, 23: 46, 24: 55, 25: 63, 26: 47}])\n",
      "dict_values([{1: 74, 2: 86, 3: 42, 4: 67, 5: 46, 6: 52, 7: 69, 8: 43, 9: 64, 10: 54, 11: 60, 12: 36, 13: 49, 14: 64, 15: 33, 16: 34, 17: 36, 18: 26, 19: 99, 20: 50, 21: 47, 22: 55, 23: 56, 24: 71, 25: 55, 26: 45}])\n",
      "dict_values([{1: 40, 2: 55, 3: 27, 4: 80, 5: 49, 6: 45, 7: 67, 8: 45, 9: 39, 10: 32, 11: 57, 12: 43, 13: 21, 14: 51, 15: 24, 16: 16, 17: 39, 18: 32, 19: 69, 20: 37, 21: 33, 22: 55, 23: 49, 24: 28, 25: 34, 26: 55}])\n",
      "dict_values([{1: 26, 2: 26, 3: 50, 4: 24, 5: 54, 6: 26, 7: 30, 8: 47, 9: 45, 10: 35, 11: 34, 12: 43, 13: 36, 14: 44, 15: 59, 16: 39, 17: 44, 18: 31, 19: 75, 20: 43, 21: 52, 22: 61, 23: 43, 24: 64, 25: 56, 26: 49}])\n",
      "dict_values([{1: 29, 2: 87, 3: 41, 4: 9, 5: 21, 6: 55, 7: 51, 8: 58, 9: 48, 10: 54, 11: 46, 12: 34, 13: 38, 14: 47, 15: 38, 16: 42, 17: 64, 18: 22, 19: 72, 20: 43, 21: 47, 22: 38, 23: 40, 24: 50, 25: 36, 26: 54}])\n",
      "dict_values([{1: 40, 2: 25, 3: 51, 4: 23, 5: 47, 6: 40, 7: 62, 8: 37, 9: 34, 10: 44, 11: 37, 12: 53, 13: 24, 14: 40, 15: 36, 16: 19, 17: 39, 18: 20, 19: 74, 20: 33, 21: 48, 22: 25, 23: 41, 24: 55, 25: 33, 26: 58}])\n",
      "dict_values([{1: 30, 2: 31, 3: 21, 4: 39, 5: 52, 6: 42, 7: 54, 8: 44, 9: 42, 10: 35, 11: 30, 12: 29, 13: 27, 14: 43, 15: 36, 16: 36, 17: 36, 18: 31, 19: 88, 20: 54, 21: 29, 22: 51, 23: 74, 24: 75, 25: 41, 26: 51}])\n",
      "dict_values([{1: 19, 2: 53, 3: 47, 4: 29, 5: 26, 6: 39, 7: 28, 8: 35, 9: 51, 10: 41, 11: 26, 12: 37, 13: 35, 14: 26, 15: 45, 16: 45, 17: 47, 18: 25, 19: 58, 20: 61, 21: 29, 22: 21, 23: 43, 24: 57, 25: 44, 26: 56}])\n"
     ]
    }
   ],
   "source": [
    "res = dict()\n",
    "for player in players_points:\n",
    "    print (player.values())"
   ]
  },
  {
   "cell_type": "code",
   "execution_count": 54,
   "metadata": {},
   "outputs": [],
   "source": [
    "from itertools import chain, "
   ]
  },
  {
   "cell_type": "code",
   "execution_count": 55,
   "metadata": {},
   "outputs": [
    {
     "data": {
      "text/plain": [
       "['Antony', 'Miguel', 'Manesh', 'Zeeshan', 'Llukman', 'Asa', 'Jimmy', 'Michael']"
      ]
     },
     "execution_count": 55,
     "metadata": {},
     "output_type": "execute_result"
    }
   ],
   "source": [
    "list(chain.from_iterable(players_points))"
   ]
  },
  {
   "cell_type": "code",
   "execution_count": null,
   "metadata": {},
   "outputs": [],
   "source": []
  },
  {
   "cell_type": "code",
   "execution_count": 70,
   "metadata": {},
   "outputs": [],
   "source": [
    "p = {'Antony': [43, 38, 47, 43, 24, 48, 49, 29, 42, 32, 49, 39, 40, 45, 30, 61, 57, 17, 107, 36, 41, 44, 46, 55, 63, 66, 34, 44, 20]}"
   ]
  },
  {
   "cell_type": "markdown",
   "metadata": {},
   "source": [
    "#result\n",
    "\n",
    "{name: avg_score, 'alan':50, 'bob': 45}"
   ]
  },
  {
   "cell_type": "code",
   "execution_count": 17,
   "metadata": {
    "tags": []
   },
   "outputs": [],
   "source": [
    "players_points_list = {'Antony': [43,\n",
    "  38,\n",
    "  47,\n",
    "  43,\n",
    "  24,\n",
    "  48,\n",
    "  49,\n",
    "  29,\n",
    "  42,\n",
    "  32,\n",
    "  49,\n",
    "  39,\n",
    "  40,\n",
    "  45,\n",
    "  30,\n",
    "  61,\n",
    "  57,\n",
    "  17,\n",
    "  107,\n",
    "  36,\n",
    "  41,\n",
    "  44,\n",
    "  46,\n",
    "  55,\n",
    "  63,\n",
    "  66,\n",
    "  34,\n",
    "  44,\n",
    "  20],\n",
    " 'Miguel': [74,\n",
    "  86,\n",
    "  42,\n",
    "  67,\n",
    "  46,\n",
    "  52,\n",
    "  69,\n",
    "  43,\n",
    "  64,\n",
    "  54,\n",
    "  60,\n",
    "  36,\n",
    "  49,\n",
    "  64,\n",
    "  33,\n",
    "  34,\n",
    "  36,\n",
    "  26,\n",
    "  99,\n",
    "  50,\n",
    "  47,\n",
    "  55,\n",
    "  56,\n",
    "  71,\n",
    "  55,\n",
    "  55,\n",
    "  34,\n",
    "  77,\n",
    "  4],\n",
    " 'Manesh': [40,\n",
    "  55,\n",
    "  27,\n",
    "  80,\n",
    "  49,\n",
    "  45,\n",
    "  67,\n",
    "  45,\n",
    "  39,\n",
    "  32,\n",
    "  57,\n",
    "  43,\n",
    "  21,\n",
    "  51,\n",
    "  24,\n",
    "  16,\n",
    "  39,\n",
    "  32,\n",
    "  69,\n",
    "  37,\n",
    "  33,\n",
    "  55,\n",
    "  49,\n",
    "  28,\n",
    "  34,\n",
    "  73,\n",
    "  58,\n",
    "  38,\n",
    "  15],\n",
    " 'Zeeshan': [26,\n",
    "  26,\n",
    "  50,\n",
    "  24,\n",
    "  54,\n",
    "  26,\n",
    "  30,\n",
    "  47,\n",
    "  45,\n",
    "  35,\n",
    "  34,\n",
    "  43,\n",
    "  36,\n",
    "  44,\n",
    "  59,\n",
    "  39,\n",
    "  44,\n",
    "  31,\n",
    "  75,\n",
    "  43,\n",
    "  52,\n",
    "  61,\n",
    "  43,\n",
    "  64,\n",
    "  56,\n",
    "  63,\n",
    "  51,\n",
    "  33,\n",
    "  6],\n",
    " 'Llukman': [29,\n",
    "  87,\n",
    "  41,\n",
    "  9,\n",
    "  21,\n",
    "  55,\n",
    "  51,\n",
    "  58,\n",
    "  48,\n",
    "  54,\n",
    "  46,\n",
    "  34,\n",
    "  38,\n",
    "  47,\n",
    "  38,\n",
    "  42,\n",
    "  64,\n",
    "  22,\n",
    "  72,\n",
    "  43,\n",
    "  47,\n",
    "  38,\n",
    "  40,\n",
    "  50,\n",
    "  36,\n",
    "  82,\n",
    "  58,\n",
    "  34,\n",
    "  20],\n",
    " 'Asa': [40,\n",
    "  25,\n",
    "  51,\n",
    "  23,\n",
    "  47,\n",
    "  40,\n",
    "  62,\n",
    "  37,\n",
    "  34,\n",
    "  44,\n",
    "  37,\n",
    "  53,\n",
    "  24,\n",
    "  40,\n",
    "  36,\n",
    "  19,\n",
    "  39,\n",
    "  20,\n",
    "  74,\n",
    "  33,\n",
    "  48,\n",
    "  25,\n",
    "  41,\n",
    "  55,\n",
    "  33,\n",
    "  58,\n",
    "  46,\n",
    "  41,\n",
    "  38],\n"
   ]
  },
  {
   "cell_type": "code",
   "execution_count": 26,
   "metadata": {},
   "outputs": [
    {
     "name": "stdout",
     "output_type": "stream",
     "text": [
      "107\n",
      "99\n",
      "80\n",
      "75\n",
      "87\n",
      "74\n",
      "88\n",
      "l\n"
     ]
    }
   ],
   "source": [
    "for player in players_points_list:\n",
    "    print (max(players_points_list[player]))"
   ]
  },
  {
   "cell_type": "code",
   "execution_count": 64,
   "metadata": {},
   "outputs": [],
   "source": [
    "a = DraftData(PLAYERS)"
   ]
  },
  {
   "cell_type": "code",
   "execution_count": 65,
   "metadata": {},
   "outputs": [
    {
     "name": "stdout",
     "output_type": "stream",
     "text": [
      "(('Antony', 'Miguel', 'Manesh', 'Zeeshan', 'Llukman', 'Asa', 'Jimmy', 'Michael'),)\n",
      "('Antony', 'Miguel', 'Manesh', 'Zeeshan', 'Llukman', 'Asa', 'Jimmy', 'Michael')\n"
     ]
    },
    {
     "ename": "KeyError",
     "evalue": "('Antony', 'Miguel', 'Manesh', 'Zeeshan', 'Llukman', 'Asa', 'Jimmy', 'Michael')",
     "output_type": "error",
     "traceback": [
      "\u001b[0;31m---------------------------------------------------------------------------\u001b[0m",
      "\u001b[0;31mKeyError\u001b[0m                                  Traceback (most recent call last)",
      "\u001b[0;32m<ipython-input-65-1480cdb1c8ae>\u001b[0m in \u001b[0;36m<module>\u001b[0;34m\u001b[0m\n\u001b[0;32m----> 1\u001b[0;31m \u001b[0mraw\u001b[0m \u001b[0;34m=\u001b[0m \u001b[0ma\u001b[0m\u001b[0;34m.\u001b[0m\u001b[0mget_gameweeks_points\u001b[0m\u001b[0;34m(\u001b[0m\u001b[0;34m(\u001b[0m\u001b[0;34m'Antony'\u001b[0m\u001b[0;34m,\u001b[0m \u001b[0;34m'Miguel'\u001b[0m\u001b[0;34m,\u001b[0m \u001b[0;34m'Manesh'\u001b[0m\u001b[0;34m,\u001b[0m \u001b[0;34m'Zeeshan'\u001b[0m\u001b[0;34m,\u001b[0m \u001b[0;34m'Llukman'\u001b[0m\u001b[0;34m,\u001b[0m \u001b[0;34m'Asa'\u001b[0m\u001b[0;34m,\u001b[0m \u001b[0;34m'Jimmy'\u001b[0m\u001b[0;34m,\u001b[0m \u001b[0;34m'Michael'\u001b[0m\u001b[0;34m)\u001b[0m\u001b[0;34m,\u001b[0m \u001b[0mformat_type\u001b[0m\u001b[0;34m=\u001b[0m\u001b[0;34m'list'\u001b[0m\u001b[0;34m)\u001b[0m\u001b[0;34m\u001b[0m\u001b[0;34m\u001b[0m\u001b[0m\n\u001b[0m",
      "\u001b[0;32m<ipython-input-57-672128d27246>\u001b[0m in \u001b[0;36mget_gameweeks_points\u001b[0;34m(self, format_type, *players)\u001b[0m\n\u001b[1;32m     47\u001b[0m         \u001b[0;32mfor\u001b[0m \u001b[0mplayer_name\u001b[0m \u001b[0;32min\u001b[0m \u001b[0mplayers\u001b[0m\u001b[0;34m:\u001b[0m\u001b[0;34m\u001b[0m\u001b[0;34m\u001b[0m\u001b[0m\n\u001b[1;32m     48\u001b[0m             \u001b[0mprint\u001b[0m\u001b[0;34m(\u001b[0m\u001b[0mplayer_name\u001b[0m\u001b[0;34m)\u001b[0m\u001b[0;34m\u001b[0m\u001b[0;34m\u001b[0m\u001b[0m\n\u001b[0;32m---> 49\u001b[0;31m             \u001b[0mdata\u001b[0m \u001b[0;34m=\u001b[0m \u001b[0mself\u001b[0m\u001b[0;34m.\u001b[0m\u001b[0mget_data\u001b[0m\u001b[0;34m(\u001b[0m\u001b[0mplayer_name\u001b[0m\u001b[0;34m)\u001b[0m\u001b[0;34m\u001b[0m\u001b[0;34m\u001b[0m\u001b[0m\n\u001b[0m\u001b[1;32m     50\u001b[0m             \u001b[0mpoints\u001b[0m \u001b[0;34m=\u001b[0m \u001b[0mself\u001b[0m\u001b[0;34m.\u001b[0m\u001b[0mget_points_per_gameweek\u001b[0m\u001b[0;34m(\u001b[0m\u001b[0mdata\u001b[0m\u001b[0;34m)\u001b[0m\u001b[0;34m\u001b[0m\u001b[0;34m\u001b[0m\u001b[0m\n\u001b[1;32m     51\u001b[0m             \u001b[0;32mif\u001b[0m \u001b[0mformat_type\u001b[0m \u001b[0;34m==\u001b[0m \u001b[0;34m\"dict\"\u001b[0m\u001b[0;34m:\u001b[0m\u001b[0;34m\u001b[0m\u001b[0;34m\u001b[0m\u001b[0m\n",
      "\u001b[0;32m<ipython-input-57-672128d27246>\u001b[0m in \u001b[0;36mget_data\u001b[0;34m(self, player_name)\u001b[0m\n\u001b[1;32m      7\u001b[0m         \u001b[0;31m# make line fit\u001b[0m\u001b[0;34m\u001b[0m\u001b[0;34m\u001b[0m\u001b[0;34m\u001b[0m\u001b[0m\n\u001b[1;32m      8\u001b[0m         player = requests.get(\n\u001b[0;32m----> 9\u001b[0;31m             \u001b[0;34mf\"https://draft.premierleague.com/api/entry/{self.player_ids[player_name]}/history\"\u001b[0m\u001b[0;34m\u001b[0m\u001b[0;34m\u001b[0m\u001b[0m\n\u001b[0m\u001b[1;32m     10\u001b[0m         )\n\u001b[1;32m     11\u001b[0m         \u001b[0mplayer_data\u001b[0m \u001b[0;34m=\u001b[0m \u001b[0mplayer\u001b[0m\u001b[0;34m.\u001b[0m\u001b[0mjson\u001b[0m\u001b[0;34m(\u001b[0m\u001b[0;34m)\u001b[0m\u001b[0;34m\u001b[0m\u001b[0;34m\u001b[0m\u001b[0m\n",
      "\u001b[0;31mKeyError\u001b[0m: ('Antony', 'Miguel', 'Manesh', 'Zeeshan', 'Llukman', 'Asa', 'Jimmy', 'Michael')"
     ]
    }
   ],
   "source": [
    "raw = a.get_gameweeks_points(('Antony', 'Miguel', 'Manesh', 'Zeeshan', 'Llukman', 'Asa', 'Jimmy', 'Michael'), format_type='list')"
   ]
  },
  {
   "cell_type": "code",
   "execution_count": 49,
   "metadata": {
    "collapsed": true,
    "jupyter": {
     "outputs_hidden": true,
     "source_hidden": true
    },
    "tags": []
   },
   "outputs": [
    {
     "data": {
      "text/plain": [
       "{'Antony': [43,\n",
       "  38,\n",
       "  47,\n",
       "  43,\n",
       "  24,\n",
       "  48,\n",
       "  49,\n",
       "  29,\n",
       "  42,\n",
       "  32,\n",
       "  49,\n",
       "  39,\n",
       "  40,\n",
       "  45,\n",
       "  30,\n",
       "  61,\n",
       "  57,\n",
       "  17,\n",
       "  107,\n",
       "  36,\n",
       "  41,\n",
       "  44,\n",
       "  46,\n",
       "  55,\n",
       "  63,\n",
       "  66,\n",
       "  34,\n",
       "  44,\n",
       "  20],\n",
       " 'Miguel': [74,\n",
       "  86,\n",
       "  42,\n",
       "  67,\n",
       "  46,\n",
       "  52,\n",
       "  69,\n",
       "  43,\n",
       "  64,\n",
       "  54,\n",
       "  60,\n",
       "  36,\n",
       "  49,\n",
       "  64,\n",
       "  33,\n",
       "  34,\n",
       "  36,\n",
       "  26,\n",
       "  99,\n",
       "  50,\n",
       "  47,\n",
       "  55,\n",
       "  56,\n",
       "  71,\n",
       "  55,\n",
       "  55,\n",
       "  34,\n",
       "  77,\n",
       "  4],\n",
       " 'Manesh': [40,\n",
       "  55,\n",
       "  27,\n",
       "  80,\n",
       "  49,\n",
       "  45,\n",
       "  67,\n",
       "  45,\n",
       "  39,\n",
       "  32,\n",
       "  57,\n",
       "  43,\n",
       "  21,\n",
       "  51,\n",
       "  24,\n",
       "  16,\n",
       "  39,\n",
       "  32,\n",
       "  69,\n",
       "  37,\n",
       "  33,\n",
       "  55,\n",
       "  49,\n",
       "  28,\n",
       "  34,\n",
       "  73,\n",
       "  58,\n",
       "  38,\n",
       "  15],\n",
       " 'Zeeshan': [26,\n",
       "  26,\n",
       "  50,\n",
       "  24,\n",
       "  54,\n",
       "  26,\n",
       "  30,\n",
       "  47,\n",
       "  45,\n",
       "  35,\n",
       "  34,\n",
       "  43,\n",
       "  36,\n",
       "  44,\n",
       "  59,\n",
       "  39,\n",
       "  44,\n",
       "  31,\n",
       "  75,\n",
       "  43,\n",
       "  52,\n",
       "  61,\n",
       "  43,\n",
       "  64,\n",
       "  56,\n",
       "  63,\n",
       "  51,\n",
       "  33,\n",
       "  6],\n",
       " 'Llukman': [29,\n",
       "  87,\n",
       "  41,\n",
       "  9,\n",
       "  21,\n",
       "  55,\n",
       "  51,\n",
       "  58,\n",
       "  48,\n",
       "  54,\n",
       "  46,\n",
       "  34,\n",
       "  38,\n",
       "  47,\n",
       "  38,\n",
       "  42,\n",
       "  64,\n",
       "  22,\n",
       "  72,\n",
       "  43,\n",
       "  47,\n",
       "  38,\n",
       "  40,\n",
       "  50,\n",
       "  36,\n",
       "  82,\n",
       "  58,\n",
       "  34,\n",
       "  20],\n",
       " 'Asa': [40,\n",
       "  25,\n",
       "  51,\n",
       "  23,\n",
       "  47,\n",
       "  40,\n",
       "  62,\n",
       "  37,\n",
       "  34,\n",
       "  44,\n",
       "  37,\n",
       "  53,\n",
       "  24,\n",
       "  40,\n",
       "  36,\n",
       "  19,\n",
       "  39,\n",
       "  20,\n",
       "  74,\n",
       "  33,\n",
       "  48,\n",
       "  25,\n",
       "  41,\n",
       "  55,\n",
       "  33,\n",
       "  58,\n",
       "  46,\n",
       "  41,\n",
       "  38],\n",
       " 'Jimmy': [30,\n",
       "  31,\n",
       "  21,\n",
       "  39,\n",
       "  52,\n",
       "  42,\n",
       "  54,\n",
       "  44,\n",
       "  42,\n",
       "  35,\n",
       "  30,\n",
       "  29,\n",
       "  27,\n",
       "  43,\n",
       "  36,\n",
       "  36,\n",
       "  36,\n",
       "  31,\n",
       "  88,\n",
       "  54,\n",
       "  29,\n",
       "  51,\n",
       "  74,\n",
       "  75,\n",
       "  41,\n",
       "  67,\n",
       "  46,\n",
       "  41,\n",
       "  39],\n",
       " 'Michael': [19,\n",
       "  53,\n",
       "  47,\n",
       "  29,\n",
       "  26,\n",
       "  39,\n",
       "  28,\n",
       "  35,\n",
       "  51,\n",
       "  41,\n",
       "  26,\n",
       "  37,\n",
       "  35,\n",
       "  26,\n",
       "  45,\n",
       "  45,\n",
       "  47,\n",
       "  25,\n",
       "  58,\n",
       "  61,\n",
       "  29,\n",
       "  21,\n",
       "  43,\n",
       "  57,\n",
       "  44,\n",
       "  80,\n",
       "  48,\n",
       "  48,\n",
       "  34]}"
      ]
     },
     "execution_count": 49,
     "metadata": {},
     "output_type": "execute_result"
    }
   ],
   "source": [
    "raw"
   ]
  },
  {
   "cell_type": "code",
   "execution_count": 52,
   "metadata": {},
   "outputs": [],
   "source": [
    "def point_average(lst):\n",
    "    return sum(lst) // len(lst)"
   ]
  },
  {
   "cell_type": "code",
   "execution_count": 63,
   "metadata": {},
   "outputs": [
    {
     "ename": "NameError",
     "evalue": "name 'raw' is not defined",
     "output_type": "error",
     "traceback": [
      "\u001b[0;31m---------------------------------------------------------------------------\u001b[0m",
      "\u001b[0;31mNameError\u001b[0m                                 Traceback (most recent call last)",
      "\u001b[0;32m<ipython-input-63-3ca8baa79867>\u001b[0m in \u001b[0;36m<module>\u001b[0;34m\u001b[0m\n\u001b[0;32m----> 1\u001b[0;31m \u001b[0;32mfor\u001b[0m \u001b[0mplayer\u001b[0m \u001b[0;32min\u001b[0m \u001b[0mraw\u001b[0m\u001b[0;34m:\u001b[0m\u001b[0;34m\u001b[0m\u001b[0;34m\u001b[0m\u001b[0m\n\u001b[0m\u001b[1;32m      2\u001b[0m     \u001b[0mprint\u001b[0m \u001b[0;34m(\u001b[0m\u001b[0;34m{\u001b[0m\u001b[0mplayer\u001b[0m\u001b[0;34m:\u001b[0m \u001b[0mpoint_average\u001b[0m\u001b[0;34m(\u001b[0m\u001b[0mraw\u001b[0m\u001b[0;34m[\u001b[0m\u001b[0mplayer\u001b[0m\u001b[0;34m]\u001b[0m\u001b[0;34m)\u001b[0m\u001b[0;34m}\u001b[0m\u001b[0;34m)\u001b[0m\u001b[0;34m\u001b[0m\u001b[0;34m\u001b[0m\u001b[0m\n",
      "\u001b[0;31mNameError\u001b[0m: name 'raw' is not defined"
     ]
    }
   ],
   "source": [
    "for player in raw:\n",
    "    print ({player: point_average(raw[player])})"
   ]
  },
  {
   "cell_type": "code",
   "execution_count": 56,
   "metadata": {},
   "outputs": [
    {
     "data": {
      "text/plain": [
       "('Antony', 'Miguel', 'Manesh', 'Zeeshan', 'Llukman', 'Asa', 'Jimmy', 'Michael')"
      ]
     },
     "execution_count": 56,
     "metadata": {},
     "output_type": "execute_result"
    }
   ],
   "source": [
    "tuple(PLAYERS)"
   ]
  }
 ],
 "metadata": {
  "kernelspec": {
   "display_name": "Python 3",
   "language": "python",
   "name": "python3"
  },
  "language_info": {
   "codemirror_mode": {
    "name": "ipython",
    "version": 3
   },
   "file_extension": ".py",
   "mimetype": "text/x-python",
   "name": "python",
   "nbconvert_exporter": "python",
   "pygments_lexer": "ipython3",
   "version": "3.8.5"
  }
 },
 "nbformat": 4,
 "nbformat_minor": 4
}
