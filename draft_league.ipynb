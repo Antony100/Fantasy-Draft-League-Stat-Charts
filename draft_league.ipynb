{
 "cells": [
  {
   "cell_type": "code",
   "execution_count": 1,
   "metadata": {},
   "outputs": [],
   "source": [
    "from matplotlib import pyplot as plt"
   ]
  },
  {
   "cell_type": "code",
   "execution_count": 2,
   "metadata": {},
   "outputs": [],
   "source": [
    "import numpy as np"
   ]
  },
  {
   "cell_type": "code",
   "execution_count": 3,
   "metadata": {},
   "outputs": [],
   "source": [
    "import requests"
   ]
  },
  {
   "cell_type": "code",
   "execution_count": 4,
   "metadata": {},
   "outputs": [],
   "source": [
    "PLAYERS = {'Antony': 96846, 'Miguel': 110988,\n",
    "           'Manesh': 113418, 'Zeeshan': 112909, 'Llukman': 102751,\n",
    "           'Asa': 97933, 'Jimmy': 97201, 'Michael': 110033}"
   ]
  },
  {
   "cell_type": "code",
   "execution_count": 5,
   "metadata": {},
   "outputs": [],
   "source": [
    "PLAYERS_LG2 = {'Antony': 56349, 'Marcus': 39626}"
   ]
  },
  {
   "cell_type": "markdown",
   "metadata": {},
   "source": [
    "---"
   ]
  },
  {
   "cell_type": "code",
   "execution_count": 18,
   "metadata": {},
   "outputs": [],
   "source": [
    "miguel_data = requests.get(\n",
    "    f\"https://draft.premierleague.com/api/entry/{PLAYERS['Miguel']}/history\")"
   ]
  },
  {
   "cell_type": "code",
   "execution_count": 29,
   "metadata": {},
   "outputs": [],
   "source": [
    "ant_data = requests.get(\n",
    "    f\"https://draft.premierleague.com/api/entry/{PLAYERS['Antony']}/history\")"
   ]
  },
  {
   "cell_type": "code",
   "execution_count": 19,
   "metadata": {},
   "outputs": [],
   "source": [
    "miguel = miguel_data.json()"
   ]
  },
  {
   "cell_type": "code",
   "execution_count": 30,
   "metadata": {},
   "outputs": [],
   "source": [
    "antony = ant_data.json()"
   ]
  },
  {
   "cell_type": "code",
   "execution_count": 11,
   "metadata": {
    "collapsed": true
   },
   "outputs": [
    {
     "name": "stdout",
     "output_type": "stream",
     "text": [
      "74\n",
      "86\n",
      "42\n",
      "67\n",
      "46\n",
      "52\n",
      "69\n",
      "43\n",
      "64\n",
      "54\n",
      "60\n",
      "36\n",
      "49\n",
      "64\n",
      "33\n",
      "34\n",
      "36\n",
      "26\n",
      "99\n",
      "50\n",
      "47\n",
      "55\n",
      "56\n",
      "71\n",
      "41\n"
     ]
    }
   ],
   "source": [
    "for  points in data['history']:\n",
    "    print (points['points'])"
   ]
  },
  {
   "cell_type": "code",
   "execution_count": 24,
   "metadata": {},
   "outputs": [],
   "source": [
    "def get_points_per_gameweek(src):\n",
    "#     res = []\n",
    "#     for points in src['history']:\n",
    "#         res.append(points['points'])\n",
    "#     return res\n",
    "    return [points['points'] for points in src['history']]\n",
    "    \n",
    "    "
   ]
  },
  {
   "cell_type": "code",
   "execution_count": 25,
   "metadata": {},
   "outputs": [],
   "source": [
    "mig_gameweek_points = get_points_per_gameweek(miguel)"
   ]
  },
  {
   "cell_type": "code",
   "execution_count": 32,
   "metadata": {},
   "outputs": [],
   "source": [
    "ant_gameweek_points = get_points_per_gameweek(antony)"
   ]
  },
  {
   "cell_type": "code",
   "execution_count": 33,
   "metadata": {},
   "outputs": [],
   "source": [
    "gameweeks = list(range(1, len(mig_gameweek_points) + 1))"
   ]
  },
  {
   "cell_type": "code",
   "execution_count": 35,
   "metadata": {},
   "outputs": [
    {
     "data": {
      "image/png": "[encoded data removed]",
      "text/plain": [
       "<Figure size 432x288 with 1 Axes>"
      ]
     },
     "metadata": {
      "needs_background": "light"
     },
     "output_type": "display_data"
    }
   ],
   "source": [
    "plt.plot(gameweeks, mig_gameweek_points)\n",
    "plt.plot(gameweeks, ant_gameweek_points)\n",
    "plt.title('Ant vs Mig')\n",
    "plt.xlabel('gameweeks')\n",
    "plt.ylabel('points')\n",
    "plt.legend(['Miguel', 'Antony'])\n",
    "plt.show()"
   ]
  },
  {
   "cell_type": "markdown",
   "metadata": {},
   "source": [
    "---"
   ]
  },
  {
   "cell_type": "code",
   "execution_count": 6,
   "metadata": {},
   "outputs": [],
   "source": [
    "class DraftData():\n",
    "\n",
    "    def __init__(self, player_ids):\n",
    "        self.player_ids = player_ids\n",
    "\n",
    "    def get_data(self, player_name):\n",
    "        # make line fit\n",
    "        player = requests.get(\n",
    "            f\"https://draft.premierleague.com/api/entry/{self.player_ids[player_name]}/history\"\n",
    "        )\n",
    "        player_data = player.json()\n",
    "        return player_data\n",
    "\n",
    "    def get_points_per_gameweek(self, src):\n",
    "        return [points['points'] for points in src['history']]\n",
    "\n",
    "#     def get_gameweeks(self, src):\n",
    "#         return list(range(1, len(src) + 1))\n",
    "    \n",
    "#     def get_gameweeks_points(self, player_name):\n",
    "#         data = self.get_data(player_name)\n",
    "#         points = self.get_points_per_gameweek(data)\n",
    "# #         gameweeks = self.get_gameweeks(points)\n",
    "#         return dict(enumerate(points, start=1))\n",
    "\n",
    "#     def get_gameweeks_points(self, player_name):\n",
    "#         data = self.get_data(player_name)\n",
    "#         points = self.get_points_per_gameweek(data)\n",
    "#         return {player_name: dict(enumerate(points, start=1))}\n",
    "\n",
    "#     one-liner\n",
    "#     def get_gameweeks_points(self, *players):\n",
    "#         return {player_name: dict(enumerate(self.get_points_per_gameweek(self.get_data(player_name)), start=1)) for player_name in players}\n",
    "    \n",
    "    def get_gameweeks_points(self, *players):\n",
    "        result = dict()\n",
    "        for player_name in players:\n",
    "            data = self.get_data(player_name)\n",
    "            points = self.get_points_per_gameweek(data)\n",
    "            result[player_name] = dict(enumerate(points, start=1))\n",
    "        return result\n",
    "            \n",
    "\n",
    "\n",
    "class HeadToHead(DraftData):\n",
    "\n",
    "    def __init__(self, player_ids, player1, player2):\n",
    "        super().__init__(player_ids)\n",
    "        self.player1 = player1\n",
    "        self.player2 = player2\n",
    "        self.players_scores = self.get_gameweeks_points(self.player1, self.player2)\n",
    "#         self.p1_points = self.get_gameweeks_points(self.player1)\n",
    "#         self.p2_points = self.get_gameweeks_points(self.player2)\n",
    "        print(self.players_scores)\n",
    "    \n",
    "    def get_id(self, player_name):\n",
    "        return self.player_ids[player_name]\n",
    "    \n",
    "        \n",
    "    def plot_linechart(self):\n",
    "        \"\"\"\n",
    "        plots the points and gameweeks for both players on a line chart\n",
    "        and returns the chart\n",
    "        \"\"\"\n",
    "        plt.style.use('ggplot')\n",
    "        \n",
    "        plt.minorticks_on()\n",
    "        \n",
    "        plt.plot(self.players_scores[self.player1].keys(), self.players_scores[self.player1].values())\n",
    "        plt.plot(self.players_scores[self.player2].keys(), self.players_scores[self.player2].values())\n",
    "        \n",
    "        plt.xlabel('gameweeks')\n",
    "        plt.ylabel('points')\n",
    "        plt.legend([self.player1, self.player2])\n",
    "        \n",
    "        plt.show()\n",
    "     \n",
    "    def headtohead_score(self):\n",
    "        \"\"\"\n",
    "        Compares the scores of each gameweek if players went head to head and returns\n",
    "        a dict of how many wins each and draws (if any).\n",
    "        \n",
    "        \"\"\"\n",
    "        p1_win = 0\n",
    "        p2_win = 0\n",
    "        draw = 0\n",
    "        for score in list(zip(self.players_scores[self.player1].values(), self.players_scores[self.player2].values())):\n",
    "            if score[0] > score[1]:\n",
    "                p1_win += 1\n",
    "            elif score[1] > score[0]:\n",
    "                p2_win += 1\n",
    "            elif score[0] == score[1]:\n",
    "                draw += 1\n",
    "        return {self.player1: p1_win, self.player2: p2_win, \"draw\": draw}\n",
    "    \n",
    "    def plot_barchart(self):\n",
    "        \"\"\"\n",
    "        Plots points and gameweeks for both players as a bar chart and returns\n",
    "        bar chart with the total head to head score. \n",
    "        \n",
    "        \"\"\"\n",
    "        \n",
    "        labels = list(self.players_scores[self.player1].keys())\n",
    "        \n",
    "\n",
    "        x = np.arange(len(labels))  # the label locations\n",
    "        width = 0.4  # the width of the bars\n",
    "\n",
    "        fig, ax = plt.subplots()\n",
    "        rects1 = ax.bar(x - width / 2, self.players_scores[self.player1].values(), width, label=self.player1)\n",
    "        rects2 = ax.bar(x + width / 2, self.players_scores[self.player2].values(), width, label=self.player2)\n",
    "\n",
    "        ax.set_ylabel('Points')\n",
    "        ax.set_title('Head to Head By Gameweek')\n",
    "        ax.set_xticks(x)\n",
    "        ax.set_xticklabels(labels)\n",
    "        ax.legend()\n",
    "\n",
    "        bbox_args = dict(boxstyle=\"round\", fc=\"0.8\")\n",
    "\n",
    "#         ax.annotate(f'{self.player1}: {self.headtohead_score()[self.player1]}\\n{self.player2}: {self.headtohead_score()[self.player2]}\\n draw: {self.headtohead_score()[\"draw\"]}', xy=(1, 1), xycoords='figure fraction',\n",
    "#                      xytext=(-20, -20), textcoords='offset points',\n",
    "#                      ha=\"right\", va=\"top\",\n",
    "#                      bbox=bbox_args,\n",
    "\n",
    "        ax.annotate(\n",
    "            f'{self.player1}: {self.headtohead_score()[self.player1]}\\n \\\n",
    "            {self.player2}: {self.headtohead_score()[self.player2]}\\n \\\n",
    "            draw: {self.headtohead_score()[\"draw\"]}',\n",
    "            xy=(1, 1), xycoords='figure fraction',\n",
    "            xytext=(-20, -20), textcoords='offset points',\n",
    "            ha=\"right\", va=\"top\",\n",
    "            bbox=bbox_args,\n",
    "        )\n",
    "\n",
    "        def autolabel(rects):\n",
    "            \"\"\"Attach a text label above each bar in *rects*, displaying its height.\"\"\"\n",
    "            for rect in rects:\n",
    "                height = rect.get_height()\n",
    "                ax.annotate('{}'.format(height),\n",
    "                            xy=(rect.get_x() + rect.get_width() / 2, height),\n",
    "                            xytext=(0, 3),  # 3 points vertical offset\n",
    "                            textcoords=\"offset points\",\n",
    "                            ha='center', va='bottom')\n",
    "\n",
    "\n",
    "        autolabel(rects1)\n",
    "        autolabel(rects2)\n",
    "\n",
    "        fig.tight_layout()\n",
    "\n",
    "        plt.show()\n",
    "        \n",
    "\n",
    "class LeagueStats(DraftData):\n",
    "    \n",
    "    def __init__(self):\n",
    "        pass\n",
    "    \n",
    "    def get_lowest_gameweek_score(self):\n",
    "        pass\n",
    "    \n",
    "    def get_highest_gameweek_score(self):\n",
    "        pass\n",
    "    \n",
    "    def plot_boxplot(self):\n",
    "        pass\n",
    "    \n",
    "    def plot_averages_barchart(self):\n",
    "        pass\n",
    "\n"
   ]
  },
  {
   "cell_type": "code",
   "execution_count": 7,
   "metadata": {},
   "outputs": [
    {
     "name": "stdout",
     "output_type": "stream",
     "text": [
      "{'Antony': {1: 43, 2: 38, 3: 47, 4: 43, 5: 24, 6: 48, 7: 49, 8: 29, 9: 42, 10: 32, 11: 49, 12: 39, 13: 40, 14: 45, 15: 30, 16: 61, 17: 57, 18: 17, 19: 107, 20: 36, 21: 41, 22: 44, 23: 46, 24: 55, 25: 63, 26: 66, 27: 34, 28: 44}, 'Miguel': {1: 74, 2: 86, 3: 42, 4: 67, 5: 46, 6: 52, 7: 69, 8: 43, 9: 64, 10: 54, 11: 60, 12: 36, 13: 49, 14: 64, 15: 33, 16: 34, 17: 36, 18: 26, 19: 99, 20: 50, 21: 47, 22: 55, 23: 56, 24: 71, 25: 55, 26: 55, 27: 34, 28: 77}}\n"
     ]
    }
   ],
   "source": [
    "p = HeadToHead(PLAYERS, 'Antony', 'Miguel')"
   ]
  },
  {
   "cell_type": "code",
   "execution_count": 8,
   "metadata": {},
   "outputs": [
    {
     "data": {
      "text/plain": [
       "{'Antony': 7, 'Miguel': 20, 'draw': 1}"
      ]
     },
     "execution_count": 8,
     "metadata": {},
     "output_type": "execute_result"
    }
   ],
   "source": [
    "p.headtohead_score()"
   ]
  },
  {
   "cell_type": "code",
   "execution_count": 9,
   "metadata": {},
   "outputs": [
    {
     "data": {
      "image/png": "[encoded data removed]",
      "text/plain": [
       "<Figure size 432x288 with 1 Axes>"
      ]
     },
     "metadata": {
      "needs_background": "light"
     },
     "output_type": "display_data"
    }
   ],
   "source": [
    "p.plot_barchart()"
   ]
  },
  {
   "cell_type": "code",
   "execution_count": 10,
   "metadata": {},
   "outputs": [
    {
     "data": {
      "image/png": "[encoded data removed]",
      "text/plain": [
       "<Figure size 432x288 with 1 Axes>"
      ]
     },
     "metadata": {},
     "output_type": "display_data"
    }
   ],
   "source": [
    "p.plot_linechart()"
   ]
  },
  {
   "cell_type": "code",
   "execution_count": 63,
   "metadata": {},
   "outputs": [
    {
     "data": {
      "text/plain": [
       "{'Antony': {1: 43,\n",
       "  2: 38,\n",
       "  3: 47,\n",
       "  4: 43,\n",
       "  5: 24,\n",
       "  6: 48,\n",
       "  7: 49,\n",
       "  8: 29,\n",
       "  9: 42,\n",
       "  10: 32,\n",
       "  11: 49,\n",
       "  12: 39,\n",
       "  13: 40,\n",
       "  14: 45,\n",
       "  15: 30,\n",
       "  16: 61,\n",
       "  17: 57,\n",
       "  18: 17,\n",
       "  19: 107,\n",
       "  20: 36,\n",
       "  21: 41,\n",
       "  22: 44,\n",
       "  23: 46,\n",
       "  24: 55,\n",
       "  25: 63,\n",
       "  26: 66},\n",
       " 'Miguel': {1: 74,\n",
       "  2: 86,\n",
       "  3: 42,\n",
       "  4: 67,\n",
       "  5: 46,\n",
       "  6: 52,\n",
       "  7: 69,\n",
       "  8: 43,\n",
       "  9: 64,\n",
       "  10: 54,\n",
       "  11: 60,\n",
       "  12: 36,\n",
       "  13: 49,\n",
       "  14: 64,\n",
       "  15: 33,\n",
       "  16: 34,\n",
       "  17: 36,\n",
       "  18: 26,\n",
       "  19: 99,\n",
       "  20: 50,\n",
       "  21: 47,\n",
       "  22: 55,\n",
       "  23: 56,\n",
       "  24: 71,\n",
       "  25: 55,\n",
       "  26: 55},\n",
       " 'Manesh': {1: 40,\n",
       "  2: 55,\n",
       "  3: 27,\n",
       "  4: 80,\n",
       "  5: 49,\n",
       "  6: 45,\n",
       "  7: 67,\n",
       "  8: 45,\n",
       "  9: 39,\n",
       "  10: 32,\n",
       "  11: 57,\n",
       "  12: 43,\n",
       "  13: 21,\n",
       "  14: 51,\n",
       "  15: 24,\n",
       "  16: 16,\n",
       "  17: 39,\n",
       "  18: 32,\n",
       "  19: 69,\n",
       "  20: 37,\n",
       "  21: 33,\n",
       "  22: 55,\n",
       "  23: 49,\n",
       "  24: 28,\n",
       "  25: 34,\n",
       "  26: 73}}"
      ]
     },
     "execution_count": 63,
     "metadata": {},
     "output_type": "execute_result"
    }
   ],
   "source": [
    "p.get_gameweeks_points('Antony', 'Miguel', 'Manesh')"
   ]
  },
  {
   "cell_type": "code",
   "execution_count": 49,
   "metadata": {},
   "outputs": [
    {
     "ename": "TypeError",
     "evalue": "__init__() takes 4 positional arguments but 5 were given",
     "output_type": "error",
     "traceback": [
      "\u001b[0;31m---------------------------------------------------------------------------\u001b[0m",
      "\u001b[0;31mTypeError\u001b[0m                                 Traceback (most recent call last)",
      "\u001b[0;32m<ipython-input-49-67b9ad76cc2b>\u001b[0m in \u001b[0;36m<module>\u001b[0;34m\u001b[0m\n\u001b[0;32m----> 1\u001b[0;31m \u001b[0mlg_2\u001b[0m \u001b[0;34m=\u001b[0m \u001b[0mHeadToHead\u001b[0m\u001b[0;34m(\u001b[0m\u001b[0mPLAYERS\u001b[0m\u001b[0;34m,\u001b[0m\u001b[0;34m'Antony'\u001b[0m\u001b[0;34m,\u001b[0m \u001b[0;34m'Miguel'\u001b[0m\u001b[0;34m,\u001b[0m \u001b[0;34m'Manesh'\u001b[0m\u001b[0;34m)\u001b[0m\u001b[0;34m\u001b[0m\u001b[0;34m\u001b[0m\u001b[0m\n\u001b[0m",
      "\u001b[0;31mTypeError\u001b[0m: __init__() takes 4 positional arguments but 5 were given"
     ]
    }
   ],
   "source": [
    "lg_2 = HeadToHead(PLAYERS,'Antony', 'Miguel')"
   ]
  },
  {
   "cell_type": "code",
   "execution_count": 17,
   "metadata": {
    "scrolled": true
   },
   "outputs": [
    {
     "data": {
      "image/png": "[encoded data removed]",
      "text/plain": [
       "<Figure size 432x288 with 1 Axes>"
      ]
     },
     "metadata": {},
     "output_type": "display_data"
    }
   ],
   "source": [
    "lg_2.plot_linechart()"
   ]
  },
  {
   "cell_type": "code",
   "execution_count": 13,
   "metadata": {},
   "outputs": [
    {
     "name": "stdout",
     "output_type": "stream",
     "text": [
      " Antony's score is: 19\n"
     ]
    },
    {
     "data": {
      "image/png": "[encoded data removed]",
      "text/plain": [
       "<Figure size 432x288 with 1 Axes>"
      ]
     },
     "metadata": {},
     "output_type": "display_data"
    }
   ],
   "source": [
    "lg_2.plot_barchart()"
   ]
  },
  {
   "cell_type": "code",
   "execution_count": 9,
   "metadata": {},
   "outputs": [],
   "source": [
    "h = HeadToHead(PLAYERS,'Zeeshan', 'Llukman')"
   ]
  },
  {
   "cell_type": "code",
   "execution_count": null,
   "metadata": {},
   "outputs": [],
   "source": [
    "h.plot_barchart()"
   ]
  },
  {
   "cell_type": "code",
   "execution_count": 37,
   "metadata": {},
   "outputs": [
    {
     "data": {
      "image/png": "[encoded data removed]",
      "text/plain": [
       "<Figure size 432x288 with 1 Axes>"
      ]
     },
     "metadata": {},
     "output_type": "display_data"
    }
   ],
   "source": [
    "h.show_graph()"
   ]
  },
  {
   "cell_type": "code",
   "execution_count": 78,
   "metadata": {},
   "outputs": [
    {
     "data": {
      "text/plain": [
       "{'Zeeshan': 12, 'Llukman': 13, 'draw': 1}"
      ]
     },
     "execution_count": 78,
     "metadata": {},
     "output_type": "execute_result"
    }
   ],
   "source": [
    "h.headtohead_score()"
   ]
  },
  {
   "cell_type": "code",
   "execution_count": null,
   "metadata": {},
   "outputs": [],
   "source": []
  },
  {
   "cell_type": "markdown",
   "metadata": {},
   "source": [
    "---"
   ]
  },
  {
   "cell_type": "code",
   "execution_count": 10,
   "metadata": {},
   "outputs": [],
   "source": [
    "a = h.get_gameweeks_points('Antony')"
   ]
  },
  {
   "cell_type": "code",
   "execution_count": 13,
   "metadata": {},
   "outputs": [
    {
     "data": {
      "text/plain": [
       "dict_values([43, 38, 47, 43, 24, 48, 49, 29, 42, 32, 49, 39, 40, 45, 30, 61, 57, 17, 107, 36, 41, 44, 46, 55, 63, 66])"
      ]
     },
     "execution_count": 13,
     "metadata": {},
     "output_type": "execute_result"
    }
   ],
   "source": [
    "a['Antony'].values()"
   ]
  },
  {
   "cell_type": "code",
   "execution_count": 59,
   "metadata": {},
   "outputs": [
    {
     "data": {
      "text/plain": [
       "dict_values([43, 38, 47, 43, 24, 48, 49, 29, 42, 32, 49, 39, 40, 45, 30, 61, 57, 17, 107, 36, 41, 44, 46, 55, 63])"
      ]
     },
     "execution_count": 59,
     "metadata": {},
     "output_type": "execute_result"
    }
   ],
   "source": [
    "a.values()"
   ]
  },
  {
   "cell_type": "code",
   "execution_count": 54,
   "metadata": {},
   "outputs": [],
   "source": [
    "m = h.get_gameweeks_points('Miguel')"
   ]
  },
  {
   "cell_type": "code",
   "execution_count": 57,
   "metadata": {},
   "outputs": [
    {
     "data": {
      "text/plain": [
       "dict_values([74, 86, 42, 67, 46, 52, 69, 43, 64, 54, 60, 36, 49, 64, 33, 34, 36, 26, 99, 50, 47, 55, 56, 71, 55])"
      ]
     },
     "execution_count": 57,
     "metadata": {},
     "output_type": "execute_result"
    }
   ],
   "source": [
    "m.values()"
   ]
  },
  {
   "cell_type": "code",
   "execution_count": 8,
   "metadata": {},
   "outputs": [],
   "source": [
    "m2 = [74, 86, 42, 67, 46, 52, 69, 43, 64, 54, 60, 36, 49, 64, 33, 34, 36, 26, 99, 50, 47, 55, 56, 71, 55]"
   ]
  },
  {
   "cell_type": "code",
   "execution_count": 7,
   "metadata": {},
   "outputs": [],
   "source": [
    "a2 = [43, 38, 47, 43, 24, 48, 49, 29, 42, 32, 49, 39, 40, 45, 30, 61, 57, 17, 107, 36, 41, 44, 46, 55, 63]"
   ]
  },
  {
   "cell_type": "code",
   "execution_count": 9,
   "metadata": {},
   "outputs": [],
   "source": [
    "m3 = [74, 86, 42, 67, 46]"
   ]
  },
  {
   "cell_type": "code",
   "execution_count": 10,
   "metadata": {},
   "outputs": [],
   "source": [
    "a3 = [74, 38, 47, 43, 24]"
   ]
  },
  {
   "cell_type": "code",
   "execution_count": 11,
   "metadata": {},
   "outputs": [],
   "source": [
    "m4 = dict(enumerate(m3, start=1))"
   ]
  },
  {
   "cell_type": "code",
   "execution_count": 12,
   "metadata": {},
   "outputs": [],
   "source": [
    "a4 = dict(enumerate(a3, start=1))"
   ]
  },
  {
   "cell_type": "code",
   "execution_count": 24,
   "metadata": {},
   "outputs": [
    {
     "data": {
      "text/plain": [
       "({1: 74, 2: 86, 3: 42, 4: 67, 5: 46}, {1: 74, 2: 38, 3: 47, 4: 43, 5: 24})"
      ]
     },
     "execution_count": 24,
     "metadata": {},
     "output_type": "execute_result"
    }
   ],
   "source": [
    "m4, a4"
   ]
  },
  {
   "cell_type": "code",
   "execution_count": 29,
   "metadata": {},
   "outputs": [
    {
     "data": {
      "text/plain": [
       "[(74, 74), (38, 86), (47, 42), (43, 67), (24, 46)]"
      ]
     },
     "execution_count": 29,
     "metadata": {},
     "output_type": "execute_result"
    }
   ],
   "source": [
    "list(zip(a4.values(), m4.values()))"
   ]
  },
  {
   "cell_type": "code",
   "execution_count": 93,
   "metadata": {},
   "outputs": [
    {
     "data": {
      "text/plain": [
       "[1, 2, 3, 4, 5]"
      ]
     },
     "execution_count": 93,
     "metadata": {},
     "output_type": "execute_result"
    }
   ],
   "source": [
    "list(a4.keys())"
   ]
  },
  {
   "cell_type": "code",
   "execution_count": null,
   "metadata": {},
   "outputs": [],
   "source": []
  },
  {
   "cell_type": "code",
   "execution_count": 68,
   "metadata": {},
   "outputs": [
    {
     "data": {
      "text/plain": [
       "54"
      ]
     },
     "execution_count": 68,
     "metadata": {},
     "output_type": "execute_result"
    }
   ],
   "source": [
    "sum(m2) // len(m2)"
   ]
  },
  {
   "cell_type": "code",
   "execution_count": 13,
   "metadata": {},
   "outputs": [],
   "source": [
    "def headtohead_score(p1, p2):   \n",
    "    a_win = 0\n",
    "    m_win = 0\n",
    "    draw = 0\n",
    "    for item in list(zip(p1.values(), p2.values())):\n",
    "        if item[0] > item[1]:\n",
    "            a_win += 1\n",
    "        elif item[1] > item[0]:\n",
    "            m_win += 1\n",
    "        elif item[0] == item[1]:\n",
    "            draw += 1\n",
    "    return {\"a\": a_win, \"m\": m_win, \"draw\": draw}"
   ]
  },
  {
   "cell_type": "code",
   "execution_count": 14,
   "metadata": {},
   "outputs": [],
   "source": [
    "h2h = headtohead_score(a4, m4)"
   ]
  },
  {
   "cell_type": "code",
   "execution_count": 49,
   "metadata": {},
   "outputs": [
    {
     "data": {
      "text/plain": [
       "1"
      ]
     },
     "execution_count": 49,
     "metadata": {},
     "output_type": "execute_result"
    }
   ],
   "source": [
    "h2h['a']"
   ]
  },
  {
   "cell_type": "code",
   "execution_count": null,
   "metadata": {},
   "outputs": [],
   "source": []
  },
  {
   "cell_type": "code",
   "execution_count": 20,
   "metadata": {},
   "outputs": [
    {
     "data": {
      "image/png": "[encoded data removed]",
      "text/plain": [
       "<Figure size 432x288 with 1 Axes>"
      ]
     },
     "metadata": {
      "needs_background": "light"
     },
     "output_type": "display_data"
    }
   ],
   "source": [
    "labels = list(range(1, len(a2) + 1))\n",
    "\n",
    "x = np.arange(len(labels))  # the label locations\n",
    "width = 0.3  # the width of the bars\n",
    "\n",
    "fig, ax = plt.subplots()\n",
    "rects1 = ax.bar(x - width / 2, a2, width, label='Ant')\n",
    "rects2 = ax.bar(x + width / 2, m2, width, label='Mig')\n",
    "\n",
    "# Add some text for labels, title and custom x-axis tick labels, etc.\n",
    "ax.set_ylabel('Points')\n",
    "ax.set_title('Head to Head By Gameweek')\n",
    "ax.set_xticks(x)\n",
    "ax.set_xticklabels(labels)\n",
    "ax.legend()\n",
    "\n",
    "bbox_args = dict(boxstyle=\"round\", fc=\"0.8\")\n",
    "arrow_args = dict(arrowstyle=\"->\")\n",
    "\n",
    "# ax.annotate(f'Zeeshan 12\\nLlukman 13\\ndraw 1', xy=(1, 1), xycoords='figure fraction',\n",
    "#              xytext=(-20, -20), textcoords='offset points',\n",
    "#              ha=\"right\", va=\"top\",\n",
    "#              bbox=bbox_args,\n",
    "#              arrowprops=arrow_args)\n",
    "\n",
    "ax.annotate(f'A: {h2h[\"a\"]}\\n \\\n",
    "            M: {h2h[\"m\"]}\\n \\\n",
    "            draw: {h2h[\"draw\"]}',\n",
    "            xy=(1, 1), xycoords='figure fraction',\n",
    "            xytext=(-20, -20), textcoords='offset points',\n",
    "            ha=\"right\", va=\"top\",\n",
    "            bbox=bbox_args,\n",
    "            arrowprops=arrow_args\n",
    "           )\n",
    "\n",
    "\n",
    "def autolabel(rects):\n",
    "    \"\"\"Attach a text label above each bar in *rects*, displaying its height.\"\"\"\n",
    "    for rect in rects:\n",
    "        height = rect.get_height()\n",
    "        ax.annotate('{}'.format(height),\n",
    "                    xy=(rect.get_x() + rect.get_width() / 2, height),\n",
    "                    xytext=(0, 3),  # 3 points vertical offset\n",
    "                    textcoords=\"offset points\",\n",
    "                    ha='center', va='bottom')\n",
    "\n",
    "\n",
    "autolabel(rects1)\n",
    "autolabel(rects2)\n",
    "\n",
    "\n",
    "plt.show()"
   ]
  },
  {
   "cell_type": "code",
   "execution_count": null,
   "metadata": {},
   "outputs": [],
   "source": []
  },
  {
   "cell_type": "code",
   "execution_count": 30,
   "metadata": {},
   "outputs": [
    {
     "data": {
      "image/png": "[encoded data removed]",
      "text/plain": [
       "<Figure size 432x288 with 1 Axes>"
      ]
     },
     "metadata": {},
     "output_type": "display_data"
    }
   ],
   "source": [
    "plt.plot(p.keys(), p.values())\n",
    "plt.minorticks_on()\n",
    "plt.show()"
   ]
  },
  {
   "cell_type": "code",
   "execution_count": 94,
   "metadata": {},
   "outputs": [
    {
     "data": {
      "image/png": "[encoded data removed]",
      "text/plain": [
       "<Figure size 640x480 with 1 Axes>"
      ]
     },
     "metadata": {},
     "output_type": "display_data"
    }
   ],
   "source": [
    "plt.style.use('bmh')\n",
    "plt.minorticks_on()\n",
    "plt.boxplot([a2, m2], labels=['Antony', 'Miguel'])\n",
    "plt.show()"
   ]
  },
  {
   "cell_type": "code",
   "execution_count": 72,
   "metadata": {},
   "outputs": [
    {
     "name": "stdout",
     "output_type": "stream",
     "text": [
      "['Solarize_Light2', '_classic_test_patch', 'bmh', 'classic', 'dark_background', 'fast', 'fivethirtyeight', 'ggplot', 'grayscale', 'seaborn', 'seaborn-bright', 'seaborn-colorblind', 'seaborn-dark', 'seaborn-dark-palette', 'seaborn-darkgrid', 'seaborn-deep', 'seaborn-muted', 'seaborn-notebook', 'seaborn-paper', 'seaborn-pastel', 'seaborn-poster', 'seaborn-talk', 'seaborn-ticks', 'seaborn-white', 'seaborn-whitegrid', 'tableau-colorblind10']\n"
     ]
    }
   ],
   "source": [
    "print(plt.style.available)"
   ]
  },
  {
   "cell_type": "code",
   "execution_count": 66,
   "metadata": {},
   "outputs": [],
   "source": [
    "points = [43,38,47,43,24,48,49]"
   ]
  },
  {
   "cell_type": "code",
   "execution_count": null,
   "metadata": {},
   "outputs": [],
   "source": []
  },
  {
   "cell_type": "code",
   "execution_count": 41,
   "metadata": {},
   "outputs": [
    {
     "data": {
      "text/plain": [
       "[43, 38, 47, 43, 24, 48, 49]"
      ]
     },
     "execution_count": 41,
     "metadata": {},
     "output_type": "execute_result"
    }
   ],
   "source": [
    "[points[1] for points in e_points]"
   ]
  },
  {
   "cell_type": "code",
   "execution_count": 50,
   "metadata": {},
   "outputs": [],
   "source": [
    "from typing import NamedTuple"
   ]
  },
  {
   "cell_type": "code",
   "execution_count": 60,
   "metadata": {},
   "outputs": [],
   "source": [
    "from collections import namedtuple"
   ]
  },
  {
   "cell_type": "code",
   "execution_count": 54,
   "metadata": {},
   "outputs": [
    {
     "data": {
      "text/plain": [
       "((1, 43), (2, 38), (3, 47), (4, 43), (5, 24), (6, 48), (7, 49))"
      ]
     },
     "execution_count": 54,
     "metadata": {},
     "output_type": "execute_result"
    }
   ],
   "source": [
    "e_points"
   ]
  },
  {
   "cell_type": "code",
   "execution_count": 63,
   "metadata": {},
   "outputs": [
    {
     "ename": "TypeError",
     "evalue": "__new__() missing 1 required positional argument: 'pts'",
     "output_type": "error",
     "traceback": [
      "\u001b[0;31m---------------------------------------------------------------------------\u001b[0m",
      "\u001b[0;31mTypeError\u001b[0m                                 Traceback (most recent call last)",
      "\u001b[0;32m<ipython-input-63-4268516251de>\u001b[0m in \u001b[0;36m<module>\u001b[0;34m\u001b[0m\n\u001b[0;32m----> 1\u001b[0;31m \u001b[0ma\u001b[0m \u001b[0;34m=\u001b[0m \u001b[0mgw_pts\u001b[0m\u001b[0;34m(\u001b[0m\u001b[0me_points\u001b[0m\u001b[0;34m)\u001b[0m\u001b[0;34m\u001b[0m\u001b[0;34m\u001b[0m\u001b[0m\n\u001b[0m",
      "\u001b[0;31mTypeError\u001b[0m: __new__() missing 1 required positional argument: 'pts'"
     ]
    }
   ],
   "source": [
    "a = gw_pts(e_points)"
   ]
  },
  {
   "cell_type": "code",
   "execution_count": 57,
   "metadata": {},
   "outputs": [],
   "source": [
    "def name_gw_pts():\n",
    "    for gameweek, points in e_points:\n",
    "        gameweek_points(gameweek, points)"
   ]
  },
  {
   "cell_type": "code",
   "execution_count": 59,
   "metadata": {},
   "outputs": [
    {
     "ename": "AttributeError",
     "evalue": "'tuple' object has no attribute 'gameweek'",
     "output_type": "error",
     "traceback": [
      "\u001b[0;31m---------------------------------------------------------------------------\u001b[0m",
      "\u001b[0;31mAttributeError\u001b[0m                            Traceback (most recent call last)",
      "\u001b[0;32m<ipython-input-59-f850e683e78e>\u001b[0m in \u001b[0;36m<module>\u001b[0;34m\u001b[0m\n\u001b[1;32m      1\u001b[0m \u001b[0;32mfor\u001b[0m \u001b[0mgw\u001b[0m \u001b[0;32min\u001b[0m \u001b[0me_points\u001b[0m\u001b[0;34m:\u001b[0m\u001b[0;34m\u001b[0m\u001b[0;34m\u001b[0m\u001b[0m\n\u001b[0;32m----> 2\u001b[0;31m     \u001b[0mgw\u001b[0m\u001b[0;34m.\u001b[0m\u001b[0mgameweek\u001b[0m\u001b[0;34m\u001b[0m\u001b[0;34m\u001b[0m\u001b[0m\n\u001b[0m",
      "\u001b[0;31mAttributeError\u001b[0m: 'tuple' object has no attribute 'gameweek'"
     ]
    }
   ],
   "source": [
    "for gw in e_points:\n",
    "    gw.gameweek"
   ]
  },
  {
   "cell_type": "code",
   "execution_count": 71,
   "metadata": {},
   "outputs": [],
   "source": [
    "d = DraftData(PLAYERS)"
   ]
  },
  {
   "cell_type": "code",
   "execution_count": 72,
   "metadata": {},
   "outputs": [
    {
     "ename": "KeyError",
     "evalue": "('Antony',)",
     "output_type": "error",
     "traceback": [
      "\u001b[0;31m---------------------------------------------------------------------------\u001b[0m",
      "\u001b[0;31mKeyError\u001b[0m                                  Traceback (most recent call last)",
      "\u001b[0;32m<ipython-input-72-726a5863dc42>\u001b[0m in \u001b[0;36m<module>\u001b[0;34m\u001b[0m\n\u001b[0;32m----> 1\u001b[0;31m \u001b[0mone_player\u001b[0m \u001b[0;34m=\u001b[0m \u001b[0md\u001b[0m\u001b[0;34m.\u001b[0m\u001b[0mget_gameweeks_points\u001b[0m\u001b[0;34m(\u001b[0m\u001b[0;34m'Antony'\u001b[0m\u001b[0;34m,\u001b[0m\u001b[0;34m)\u001b[0m\u001b[0;34m\u001b[0m\u001b[0;34m\u001b[0m\u001b[0m\n\u001b[0m",
      "\u001b[0;32m<ipython-input-67-27c23620be5b>\u001b[0m in \u001b[0;36mget_gameweeks_points\u001b[0;34m(self, *player_name)\u001b[0m\n\u001b[1;32m     25\u001b[0m \u001b[0;34m\u001b[0m\u001b[0m\n\u001b[1;32m     26\u001b[0m     \u001b[0;32mdef\u001b[0m \u001b[0mget_gameweeks_points\u001b[0m\u001b[0;34m(\u001b[0m\u001b[0mself\u001b[0m\u001b[0;34m,\u001b[0m \u001b[0;34m*\u001b[0m\u001b[0mplayer_name\u001b[0m\u001b[0;34m)\u001b[0m\u001b[0;34m:\u001b[0m\u001b[0;34m\u001b[0m\u001b[0;34m\u001b[0m\u001b[0m\n\u001b[0;32m---> 27\u001b[0;31m         \u001b[0mdata\u001b[0m \u001b[0;34m=\u001b[0m \u001b[0mself\u001b[0m\u001b[0;34m.\u001b[0m\u001b[0mget_data\u001b[0m\u001b[0;34m(\u001b[0m\u001b[0mplayer_name\u001b[0m\u001b[0;34m)\u001b[0m\u001b[0;34m\u001b[0m\u001b[0;34m\u001b[0m\u001b[0m\n\u001b[0m\u001b[1;32m     28\u001b[0m         \u001b[0mpoints\u001b[0m \u001b[0;34m=\u001b[0m \u001b[0mself\u001b[0m\u001b[0;34m.\u001b[0m\u001b[0mget_points_per_gameweek\u001b[0m\u001b[0;34m(\u001b[0m\u001b[0mdata\u001b[0m\u001b[0;34m)\u001b[0m\u001b[0;34m\u001b[0m\u001b[0;34m\u001b[0m\u001b[0m\n\u001b[1;32m     29\u001b[0m         \u001b[0;32mreturn\u001b[0m \u001b[0;34m{\u001b[0m\u001b[0mplayer_name\u001b[0m\u001b[0;34m:\u001b[0m \u001b[0mdict\u001b[0m\u001b[0;34m(\u001b[0m\u001b[0menumerate\u001b[0m\u001b[0;34m(\u001b[0m\u001b[0mpoints\u001b[0m\u001b[0;34m,\u001b[0m \u001b[0mstart\u001b[0m\u001b[0;34m=\u001b[0m\u001b[0;36m1\u001b[0m\u001b[0;34m)\u001b[0m\u001b[0;34m)\u001b[0m\u001b[0;34m}\u001b[0m\u001b[0;34m\u001b[0m\u001b[0;34m\u001b[0m\u001b[0m\n",
      "\u001b[0;32m<ipython-input-67-27c23620be5b>\u001b[0m in \u001b[0;36mget_data\u001b[0;34m(self, player_name)\u001b[0m\n\u001b[1;32m      7\u001b[0m         \u001b[0;31m# make line fit\u001b[0m\u001b[0;34m\u001b[0m\u001b[0;34m\u001b[0m\u001b[0;34m\u001b[0m\u001b[0m\n\u001b[1;32m      8\u001b[0m         player = requests.get(\n\u001b[0;32m----> 9\u001b[0;31m             \u001b[0;34mf\"https://draft.premierleague.com/api/entry/{self.player_ids[player_name]}/history\"\u001b[0m\u001b[0;34m\u001b[0m\u001b[0;34m\u001b[0m\u001b[0m\n\u001b[0m\u001b[1;32m     10\u001b[0m         )\n\u001b[1;32m     11\u001b[0m         \u001b[0mplayer_data\u001b[0m \u001b[0;34m=\u001b[0m \u001b[0mplayer\u001b[0m\u001b[0;34m.\u001b[0m\u001b[0mjson\u001b[0m\u001b[0;34m(\u001b[0m\u001b[0;34m)\u001b[0m\u001b[0;34m\u001b[0m\u001b[0;34m\u001b[0m\u001b[0m\n",
      "\u001b[0;31mKeyError\u001b[0m: ('Antony',)"
     ]
    }
   ],
   "source": [
    "one_player = d.get_gameweeks_points('Antony',)"
   ]
  },
  {
   "cell_type": "code",
   "execution_count": 66,
   "metadata": {},
   "outputs": [
    {
     "data": {
      "text/plain": [
       "{1: 43,\n",
       " 2: 38,\n",
       " 3: 47,\n",
       " 4: 43,\n",
       " 5: 24,\n",
       " 6: 48,\n",
       " 7: 49,\n",
       " 8: 29,\n",
       " 9: 42,\n",
       " 10: 32,\n",
       " 11: 49,\n",
       " 12: 39,\n",
       " 13: 40,\n",
       " 14: 45,\n",
       " 15: 30,\n",
       " 16: 61,\n",
       " 17: 57,\n",
       " 18: 17,\n",
       " 19: 107,\n",
       " 20: 36,\n",
       " 21: 41,\n",
       " 22: 44,\n",
       " 23: 46,\n",
       " 24: 55,\n",
       " 25: 63,\n",
       " 26: 47}"
      ]
     },
     "execution_count": 66,
     "metadata": {},
     "output_type": "execute_result"
    }
   ],
   "source": [
    "one_player['Antony']"
   ]
  },
  {
   "cell_type": "code",
   "execution_count": 40,
   "metadata": {},
   "outputs": [],
   "source": [
    "name = 'Ant'"
   ]
  },
  {
   "cell_type": "code",
   "execution_count": 43,
   "metadata": {},
   "outputs": [
    {
     "data": {
      "text/plain": [
       "{'Ant': {0: 1, 1: 2, 2: 3, 3: 4}}"
      ]
     },
     "execution_count": 43,
     "metadata": {},
     "output_type": "execute_result"
    }
   ],
   "source": [
    "{name: dict(enumerate(nums))}"
   ]
  },
  {
   "cell_type": "code",
   "execution_count": 56,
   "metadata": {},
   "outputs": [],
   "source": [
    "all_player_points = list(map(d.get_gameweeks_points, PLAYERS.keys()))"
   ]
  },
  {
   "cell_type": "code",
   "execution_count": 63,
   "metadata": {},
   "outputs": [
    {
     "data": {
      "text/plain": [
       "dict_values([43, 38, 47, 43, 24, 48, 49, 29, 42, 32, 49, 39, 40, 45, 30, 61, 57, 17, 107, 36, 41, 44, 46, 55, 63, 47])"
      ]
     },
     "execution_count": 63,
     "metadata": {},
     "output_type": "execute_result"
    }
   ],
   "source": [
    "all_player_points[0]['Antony'].values()"
   ]
  },
  {
   "cell_type": "code",
   "execution_count": 64,
   "metadata": {
    "collapsed": true
   },
   "outputs": [
    {
     "data": {
      "text/plain": [
       "[{'Antony': {1: 43,\n",
       "   2: 38,\n",
       "   3: 47,\n",
       "   4: 43,\n",
       "   5: 24,\n",
       "   6: 48,\n",
       "   7: 49,\n",
       "   8: 29,\n",
       "   9: 42,\n",
       "   10: 32,\n",
       "   11: 49,\n",
       "   12: 39,\n",
       "   13: 40,\n",
       "   14: 45,\n",
       "   15: 30,\n",
       "   16: 61,\n",
       "   17: 57,\n",
       "   18: 17,\n",
       "   19: 107,\n",
       "   20: 36,\n",
       "   21: 41,\n",
       "   22: 44,\n",
       "   23: 46,\n",
       "   24: 55,\n",
       "   25: 63,\n",
       "   26: 47}},\n",
       " {'Miguel': {1: 74,\n",
       "   2: 86,\n",
       "   3: 42,\n",
       "   4: 67,\n",
       "   5: 46,\n",
       "   6: 52,\n",
       "   7: 69,\n",
       "   8: 43,\n",
       "   9: 64,\n",
       "   10: 54,\n",
       "   11: 60,\n",
       "   12: 36,\n",
       "   13: 49,\n",
       "   14: 64,\n",
       "   15: 33,\n",
       "   16: 34,\n",
       "   17: 36,\n",
       "   18: 26,\n",
       "   19: 99,\n",
       "   20: 50,\n",
       "   21: 47,\n",
       "   22: 55,\n",
       "   23: 56,\n",
       "   24: 71,\n",
       "   25: 55,\n",
       "   26: 45}},\n",
       " {'Manesh': {1: 40,\n",
       "   2: 55,\n",
       "   3: 27,\n",
       "   4: 80,\n",
       "   5: 49,\n",
       "   6: 45,\n",
       "   7: 67,\n",
       "   8: 45,\n",
       "   9: 39,\n",
       "   10: 32,\n",
       "   11: 57,\n",
       "   12: 43,\n",
       "   13: 21,\n",
       "   14: 51,\n",
       "   15: 24,\n",
       "   16: 16,\n",
       "   17: 39,\n",
       "   18: 32,\n",
       "   19: 69,\n",
       "   20: 37,\n",
       "   21: 33,\n",
       "   22: 55,\n",
       "   23: 49,\n",
       "   24: 28,\n",
       "   25: 34,\n",
       "   26: 55}},\n",
       " {'Zeeshan': {1: 26,\n",
       "   2: 26,\n",
       "   3: 50,\n",
       "   4: 24,\n",
       "   5: 54,\n",
       "   6: 26,\n",
       "   7: 30,\n",
       "   8: 47,\n",
       "   9: 45,\n",
       "   10: 35,\n",
       "   11: 34,\n",
       "   12: 43,\n",
       "   13: 36,\n",
       "   14: 44,\n",
       "   15: 59,\n",
       "   16: 39,\n",
       "   17: 44,\n",
       "   18: 31,\n",
       "   19: 75,\n",
       "   20: 43,\n",
       "   21: 52,\n",
       "   22: 61,\n",
       "   23: 43,\n",
       "   24: 64,\n",
       "   25: 56,\n",
       "   26: 49}},\n",
       " {'Llukman': {1: 29,\n",
       "   2: 87,\n",
       "   3: 41,\n",
       "   4: 9,\n",
       "   5: 21,\n",
       "   6: 55,\n",
       "   7: 51,\n",
       "   8: 58,\n",
       "   9: 48,\n",
       "   10: 54,\n",
       "   11: 46,\n",
       "   12: 34,\n",
       "   13: 38,\n",
       "   14: 47,\n",
       "   15: 38,\n",
       "   16: 42,\n",
       "   17: 64,\n",
       "   18: 22,\n",
       "   19: 72,\n",
       "   20: 43,\n",
       "   21: 47,\n",
       "   22: 38,\n",
       "   23: 40,\n",
       "   24: 50,\n",
       "   25: 36,\n",
       "   26: 54}},\n",
       " {'Asa': {1: 40,\n",
       "   2: 25,\n",
       "   3: 51,\n",
       "   4: 23,\n",
       "   5: 47,\n",
       "   6: 40,\n",
       "   7: 62,\n",
       "   8: 37,\n",
       "   9: 34,\n",
       "   10: 44,\n",
       "   11: 37,\n",
       "   12: 53,\n",
       "   13: 24,\n",
       "   14: 40,\n",
       "   15: 36,\n",
       "   16: 19,\n",
       "   17: 39,\n",
       "   18: 20,\n",
       "   19: 74,\n",
       "   20: 33,\n",
       "   21: 48,\n",
       "   22: 25,\n",
       "   23: 41,\n",
       "   24: 55,\n",
       "   25: 33,\n",
       "   26: 58}},\n",
       " {'Jimmy': {1: 30,\n",
       "   2: 31,\n",
       "   3: 21,\n",
       "   4: 39,\n",
       "   5: 52,\n",
       "   6: 42,\n",
       "   7: 54,\n",
       "   8: 44,\n",
       "   9: 42,\n",
       "   10: 35,\n",
       "   11: 30,\n",
       "   12: 29,\n",
       "   13: 27,\n",
       "   14: 43,\n",
       "   15: 36,\n",
       "   16: 36,\n",
       "   17: 36,\n",
       "   18: 31,\n",
       "   19: 88,\n",
       "   20: 54,\n",
       "   21: 29,\n",
       "   22: 51,\n",
       "   23: 74,\n",
       "   24: 75,\n",
       "   25: 41,\n",
       "   26: 51}},\n",
       " {'Michael': {1: 19,\n",
       "   2: 53,\n",
       "   3: 47,\n",
       "   4: 29,\n",
       "   5: 26,\n",
       "   6: 39,\n",
       "   7: 28,\n",
       "   8: 35,\n",
       "   9: 51,\n",
       "   10: 41,\n",
       "   11: 26,\n",
       "   12: 37,\n",
       "   13: 35,\n",
       "   14: 26,\n",
       "   15: 45,\n",
       "   16: 45,\n",
       "   17: 47,\n",
       "   18: 25,\n",
       "   19: 58,\n",
       "   20: 61,\n",
       "   21: 29,\n",
       "   22: 21,\n",
       "   23: 43,\n",
       "   24: 57,\n",
       "   25: 44,\n",
       "   26: 56}}]"
      ]
     },
     "execution_count": 64,
     "metadata": {},
     "output_type": "execute_result"
    }
   ],
   "source": [
    "all_player_points"
   ]
  },
  {
   "cell_type": "code",
   "execution_count": 34,
   "metadata": {},
   "outputs": [],
   "source": [
    "def mult_2(*n):\n",
    "    return [num * 2 for num in n]"
   ]
  },
  {
   "cell_type": "code",
   "execution_count": 35,
   "metadata": {},
   "outputs": [
    {
     "data": {
      "text/plain": [
       "[20, 40, 60]"
      ]
     },
     "execution_count": 35,
     "metadata": {},
     "output_type": "execute_result"
    }
   ],
   "source": [
    "mult_2(10, 20, 30)"
   ]
  },
  {
   "cell_type": "code",
   "execution_count": 36,
   "metadata": {},
   "outputs": [
    {
     "data": {
      "text/plain": [
       "('Antony', 'Miguel', 'Manesh', 'Zeeshan', 'Llukman', 'Asa', 'Jimmy', 'Michael')"
      ]
     },
     "execution_count": 36,
     "metadata": {},
     "output_type": "execute_result"
    }
   ],
   "source": [
    "tuple(PLAYERS)"
   ]
  },
  {
   "cell_type": "code",
   "execution_count": null,
   "metadata": {},
   "outputs": [],
   "source": []
  }
 ],
 "metadata": {
  "kernelspec": {
   "display_name": "Python 3",
   "language": "python",
   "name": "python3"
  },
  "language_info": {
   "codemirror_mode": {
    "name": "ipython",
    "version": 3
   },
   "file_extension": ".py",
   "mimetype": "text/x-python",
   "name": "python",
   "nbconvert_exporter": "python",
   "pygments_lexer": "ipython3",
   "version": "3.8.5"
  }
 },
 "nbformat": 4,
 "nbformat_minor": 2
}
